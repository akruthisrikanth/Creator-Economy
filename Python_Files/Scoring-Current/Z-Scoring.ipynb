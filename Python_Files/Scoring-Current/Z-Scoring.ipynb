{
 "cells": [
  {
   "cell_type": "code",
   "execution_count": 212,
   "metadata": {
    "id": "c9KzJmrZrzpd"
   },
   "outputs": [],
   "source": [
    "from google.colab import auth\n",
    "import gspread\n",
    "from google.auth import default\n",
    "import pandas as pd\n",
    "import numpy as np\n",
    "from google.cloud import bigquery\n",
    "import pandas as pd\n",
    "import numpy as np\n",
    "import re\n",
    "from sklearn.preprocessing import LabelEncoder"
   ]
  },
  {
   "cell_type": "markdown",
   "metadata": {
    "id": "-vWCF73rsLEp"
   },
   "source": [
    "**Finding the Z-Score**"
   ]
  },
  {
   "cell_type": "code",
   "execution_count": 213,
   "metadata": {
    "id": "E9uQw9rPsCpx"
   },
   "outputs": [],
   "source": [
    "client = bigquery.Client.from_service_account_json('/content/drive/MyDrive/tech-cali-b2c-72b3e690e309-Compute-Engine.json')\n",
    "\n",
    "project_id = 'tech-cali-b2c'\n",
    "dataset_id = 'CE_External_Source'\n",
    "table_id = 'Chartmetric_Raw'\n",
    "\n",
    "# Create a reference to the BigQuery table\n",
    "table_ref = client.dataset(dataset_id).table(table_id)\n",
    "\n",
    "df_mod = client.query(f\"SELECT * FROM `{project_id}.{dataset_id}.{table_id}`\").to_dataframe()"
   ]
  },
  {
   "cell_type": "code",
   "execution_count": 214,
   "metadata": {
    "id": "S1zc5YOosGkG"
   },
   "outputs": [],
   "source": [
    "# df = pd.DataFrame.from_records(rows[1:],columns=rows[0])\n",
    "\n",
    "df_mod = df_mod.drop_duplicates(subset=['artist_id'], keep='first')\n",
    "df_mod = df_mod[df_mod['artist_id'] != \"\"]"
   ]
  },
  {
   "cell_type": "code",
   "execution_count": null,
   "metadata": {},
   "outputs": [],
   "source": [
    "df = df_mod.drop(['Snapshot_Date'], axis=1)"
   ]
  },
  {
   "cell_type": "code",
   "execution_count": 215,
   "metadata": {
    "id": "aqj8eyfV87da"
   },
   "outputs": [],
   "source": [
    "# df.iloc[:,3:] = df.iloc[:,3:].replace(\"\",0)\n",
    "df.iloc[:,3:] = df.iloc[:,3:].fillna(0)"
   ]
  },
  {
   "cell_type": "code",
   "execution_count": 217,
   "metadata": {
    "colab": {
     "base_uri": "https://localhost:8080/"
    },
    "id": "ZWzbzNmAsI7C",
    "outputId": "21761192-d366-4cbd-a58b-3de9ee36ff42"
   },
   "outputs": [],
   "source": [
    "cols = ['name', 'country_code', 'genres', 'artist_id']\n",
    "columns_select = list(df.drop(cols, axis=1).columns)\n",
    "for col in columns_select:\n",
    "    df[col] = df[col].astype('float')"
   ]
  },
  {
   "cell_type": "code",
   "execution_count": 219,
   "metadata": {
    "id": "XDIyy0x5sUvx"
   },
   "outputs": [],
   "source": [
    "exclude = ['name', 'country_code', 'genres', 'artist_id', 'youtube_daily_video_views','youtube_channel_views',\n",
    "           'TikTok_Genz_followers_percentage','Instagram_Genz_followers_percentage','TikTok_number_of_top_tracks',\n",
    "           'TikTok_avg_creations_for_top_n_tracks','TikTok_avg_views_for_top_n_tracks', 'Youtube_Genz_subscribers_percentage']\n",
    "cols = [x for x in list(df.columns) if x not in exclude]\n",
    "\n",
    "for col in cols:\n",
    "    col_zscore = col + '_zscore'\n",
    "    df[col_zscore] = (df[col] - df[col].median())/df[col].std(ddof=0)"
   ]
  },
  {
   "cell_type": "code",
   "execution_count": 221,
   "metadata": {
    "id": "fmiA-qs0snHU"
   },
   "outputs": [],
   "source": [
    "def map_score_bucket(zscore):\n",
    "  if zscore < -2:\n",
    "    return 1\n",
    "  elif zscore >= -2 and zscore < -1:\n",
    "    return 2\n",
    "  elif zscore >= -1 and zscore < 0:\n",
    "    return 3\n",
    "  elif zscore >= 0 and zscore < 0.5:\n",
    "    return 4\n",
    "  elif zscore >= 0.5 and zscore < 1:\n",
    "    return 5\n",
    "  elif zscore >= 1 and zscore < 2:\n",
    "    return 6\n",
    "  elif zscore >= 2 and zscore < 3:\n",
    "    return 7\n",
    "  elif zscore >= 3:\n",
    "    return 8\n",
    "  else:\n",
    "    return 0"
   ]
  },
  {
   "cell_type": "code",
   "execution_count": 222,
   "metadata": {
    "id": "wYfo4DgQsomn"
   },
   "outputs": [],
   "source": [
    "import math\n",
    "\n",
    "def map_score_bucket_label(score_bucket):\n",
    "  if math.ceil(score_bucket) >= 8:\n",
    "    return \"8.Extremely High\"\n",
    "  elif math.ceil(score_bucket) >= 7:\n",
    "    return \"7.Very High\"\n",
    "  elif math.ceil(score_bucket) >= 6:\n",
    "    return \"6.High\"\n",
    "  elif math.ceil(score_bucket) >= 5:\n",
    "    return \"5.Above Medium\"\n",
    "  elif math.ceil(score_bucket) >= 4:\n",
    "    return \"4.Medium\"\n",
    "  elif math.ceil(score_bucket) >= 3:\n",
    "    return \"3.Below Medium\"\n",
    "  elif math.ceil(score_bucket) >= 2:\n",
    "    return \"2.Low\"\n",
    "  elif math.ceil(score_bucket) >= 1:\n",
    "    return \"1.Very Low\"\n",
    "  else:\n",
    "    return \"0.Not Applicable\""
   ]
  },
  {
   "cell_type": "code",
   "execution_count": 223,
   "metadata": {
    "id": "dpSSpP6Hsuw8"
   },
   "outputs": [],
   "source": [
    "for col in list(df.columns):\n",
    "  if col.endswith('_zscore'):\n",
    "    col_score_bucket = \"_\".join(col.split('_')[:-1]) + '_z_score'\n",
    "    col_score_bucket_label = col_score_bucket + '_label'\n",
    "    df[col_score_bucket] = df[col].apply(lambda x: map_score_bucket(x))\n",
    "    df[col_score_bucket_label] = df[col_score_bucket].apply(lambda x: map_score_bucket_label(x))"
   ]
  },
  {
   "cell_type": "code",
   "execution_count": null,
   "metadata": {},
   "outputs": [],
   "source": [
    "from google.oauth2 import service_account\n",
    "import pandas_gbq\n",
    "\n",
    "# Define your BigQuery project ID and credentials\n",
    "project_id = 'tech-cali-b2c'\n",
    "credentials = service_account.Credentials.from_service_account_file('/content/drive/MyDrive/tech-cali-b2c-72b3e690e309-Compute-Engine.json')\n",
    "\n",
    "# Define the BigQuery table name and dataset ID\n",
    "dataset_id = 'CE_ML_Layer'\n",
    "table_name = 'Z_Scoring'\n",
    "\n",
    "# Write the dataframe to BigQuery\n",
    "pandas_gbq.to_gbq(df, f'{dataset_id}.{table_name}', project_id=project_id, if_exists='replace', credentials=credentials)\n",
    "\n",
    "print('Data moved to BigQuery successfully!')"
   ]
  }
 ],
 "metadata": {
  "colab": {
   "provenance": []
  },
  "kernelspec": {
   "display_name": "Python 3 (ipykernel)",
   "language": "python",
   "name": "python3"
  },
  "language_info": {
   "codemirror_mode": {
    "name": "ipython",
    "version": 3
   },
   "file_extension": ".py",
   "mimetype": "text/x-python",
   "name": "python",
   "nbconvert_exporter": "python",
   "pygments_lexer": "ipython3",
   "version": "3.9.13"
  }
 },
 "nbformat": 4,
 "nbformat_minor": 1
}
