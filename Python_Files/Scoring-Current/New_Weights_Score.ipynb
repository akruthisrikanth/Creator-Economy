{
 "cells": [
  {
   "cell_type": "code",
   "execution_count": 212,
   "metadata": {
    "id": "c9KzJmrZrzpd"
   },
   "outputs": [],
   "source": [
    "from google.cloud import bigquery\n",
    "import pandas as pd\n",
    "import numpy as np\n",
    "import re\n",
    "from sklearn.preprocessing import LabelEncoder"
   ]
  },
  {
   "cell_type": "code",
   "execution_count": null,
   "metadata": {},
   "outputs": [],
   "source": [
    "client = bigquery.Client.from_service_account_json('/content/drive/MyDrive/tech-cali-b2c-72b3e690e309-Compute-Engine.json')\n",
    "\n",
    "project_id1 = 'tech-cali-b2c'\n",
    "dataset_id1 = 'CE_ML_Layer'\n",
    "table_id1 = 'Z_Scoring'\n",
    "\n",
    "df_fi = client.query(f\"SELECT * FROM `{project_id1}.{dataset_id1}.{table_id1}`\").to_dataframe()"
   ]
  },
  {
   "cell_type": "code",
   "execution_count": null,
   "metadata": {},
   "outputs": [],
   "source": [
    "project_id2 = 'tech-cali-b2c'\n",
    "dataset_id2 = 'CE_ML_Layer'\n",
    "table_id2 = 'Feature_Importance'\n",
    "\n",
    "feature_imp = client.query(f\"SELECT * FROM `{project_id2}.{dataset_id2}.{table_id2}`\").to_dataframe()"
   ]
  },
  {
   "cell_type": "code",
   "execution_count": 222,
   "metadata": {
    "id": "wYfo4DgQsomn"
   },
   "outputs": [],
   "source": [
    "import math\n",
    "\n",
    "def map_score_bucket_label(score_bucket):\n",
    "  if math.ceil(score_bucket) >= 8:\n",
    "    return \"8.Extremely High\"\n",
    "  elif math.ceil(score_bucket) >= 7:\n",
    "    return \"7.Very High\"\n",
    "  elif math.ceil(score_bucket) >= 6:\n",
    "    return \"6.High\"\n",
    "  elif math.ceil(score_bucket) >= 5:\n",
    "    return \"5.Above Medium\"\n",
    "  elif math.ceil(score_bucket) >= 4:\n",
    "    return \"4.Medium\"\n",
    "  elif math.ceil(score_bucket) >= 3:\n",
    "    return \"3.Below Medium\"\n",
    "  elif math.ceil(score_bucket) >= 2:\n",
    "    return \"2.Low\"\n",
    "  elif math.ceil(score_bucket) >= 1:\n",
    "    return \"1.Very Low\"\n",
    "  else:\n",
    "    return \"0.Not Applicable\""
   ]
  },
  {
   "cell_type": "markdown",
   "metadata": {
    "id": "YqEi3gZwyYPb"
   },
   "source": [
    "**Finding the Metric Score**"
   ]
  },
  {
   "cell_type": "code",
   "execution_count": 256,
   "metadata": {
    "id": "KBC3FDN1K0W-"
   },
   "outputs": [],
   "source": [
    "df_A_Score = feature_imp[['spotify_followers','Instagram_followers','Instagram_Genz_followers','TikTok_followers','TikTok_Genz_followers',\n",
    "                          'Youtube_subscribers','twitter_followers','Youtube_Genz_subscribers']]\n",
    "df_C_Score = feature_imp[['youtube_monthly_video_views','TikTok_total_views_for_top_n_tracks','spotify_monthly_listeners','twitter_retweets']]\n",
    "df_E_Score = feature_imp[['TikTok_avg_engagements_per_post','Instagram_avg_engagements_per_post','facebook_likes','facebook_talks',\n",
    "                          'Youtube_avg_engagements_per_post']]"
   ]
  },
  {
   "cell_type": "code",
   "execution_count": 257,
   "metadata": {
    "id": "sYFHJ_ExNvXC"
   },
   "outputs": [],
   "source": [
    "new1 = df_A_Score.transpose()\n",
    "new2 = df_C_Score.transpose()\n",
    "new3 = df_E_Score.transpose()"
   ]
  },
  {
   "cell_type": "code",
   "execution_count": 258,
   "metadata": {
    "id": "XWT1fhXqOA6N"
   },
   "outputs": [],
   "source": [
    "new_df_A = new1.sort_values(0, ascending = True)\n",
    "new_df_C = new2.sort_values(0, ascending = True)\n",
    "new_df_E = new3.sort_values(0, ascending = True)"
   ]
  },
  {
   "cell_type": "code",
   "execution_count": 259,
   "metadata": {
    "id": "bXm_tKmYOkhN"
   },
   "outputs": [],
   "source": [
    "new_df_A[\"Metric_Score\"] = [1,2,3,4,5,6,7,8]\n",
    "new_df_C[\"Metric_Score\"] = [1,2,3,4]\n",
    "new_df_E[\"Metric_Score\"] = [1,2,3,4,5]"
   ]
  },
  {
   "cell_type": "markdown",
   "metadata": {
    "id": "BZBXuZnTPiRj"
   },
   "source": [
    "**Finding New Weights**"
   ]
  },
  {
   "cell_type": "code",
   "execution_count": 260,
   "metadata": {
    "id": "teBb2socPk-k"
   },
   "outputs": [],
   "source": [
    "new_df_A[\"New_Weights_%\"] = new_df_A['Metric_Score']/sum(new_df_A['Metric_Score'])\n",
    "new_df_C[\"New_Weights_%\"] = new_df_C['Metric_Score']/sum(new_df_C['Metric_Score'])\n",
    "new_df_E[\"New_Weights_%\"] = new_df_E['Metric_Score']/sum(new_df_E['Metric_Score'])"
   ]
  },
  {
   "cell_type": "code",
   "execution_count": 261,
   "metadata": {
    "colab": {
     "base_uri": "https://localhost:8080/",
     "height": 300
    },
    "id": "OmeunN1pGMMo",
    "outputId": "00dd5765-80ea-4584-a411-22edf213e461"
   },
   "outputs": [
    {
     "data": {
      "text/html": [
       "<div>\n",
       "<style scoped>\n",
       "    .dataframe tbody tr th:only-of-type {\n",
       "        vertical-align: middle;\n",
       "    }\n",
       "\n",
       "    .dataframe tbody tr th {\n",
       "        vertical-align: top;\n",
       "    }\n",
       "\n",
       "    .dataframe thead th {\n",
       "        text-align: right;\n",
       "    }\n",
       "</style>\n",
       "<table border=\"1\" class=\"dataframe\">\n",
       "  <thead>\n",
       "    <tr style=\"text-align: right;\">\n",
       "      <th></th>\n",
       "      <th>0</th>\n",
       "      <th>Metric_Score</th>\n",
       "      <th>New_Weights_%</th>\n",
       "    </tr>\n",
       "  </thead>\n",
       "  <tbody>\n",
       "    <tr>\n",
       "      <th>twitter_followers</th>\n",
       "      <td>0.003826</td>\n",
       "      <td>1</td>\n",
       "      <td>0.027778</td>\n",
       "    </tr>\n",
       "    <tr>\n",
       "      <th>TikTok_followers</th>\n",
       "      <td>0.008041</td>\n",
       "      <td>2</td>\n",
       "      <td>0.055556</td>\n",
       "    </tr>\n",
       "    <tr>\n",
       "      <th>TikTok_Genz_followers</th>\n",
       "      <td>0.009570</td>\n",
       "      <td>3</td>\n",
       "      <td>0.083333</td>\n",
       "    </tr>\n",
       "    <tr>\n",
       "      <th>Youtube_subscribers</th>\n",
       "      <td>0.009894</td>\n",
       "      <td>4</td>\n",
       "      <td>0.111111</td>\n",
       "    </tr>\n",
       "    <tr>\n",
       "      <th>Instagram_followers</th>\n",
       "      <td>0.017655</td>\n",
       "      <td>5</td>\n",
       "      <td>0.138889</td>\n",
       "    </tr>\n",
       "    <tr>\n",
       "      <th>Instagram_Genz_followers</th>\n",
       "      <td>0.019280</td>\n",
       "      <td>6</td>\n",
       "      <td>0.166667</td>\n",
       "    </tr>\n",
       "    <tr>\n",
       "      <th>spotify_followers</th>\n",
       "      <td>0.019816</td>\n",
       "      <td>7</td>\n",
       "      <td>0.194444</td>\n",
       "    </tr>\n",
       "    <tr>\n",
       "      <th>Youtube_Genz_subscribers</th>\n",
       "      <td>0.024955</td>\n",
       "      <td>8</td>\n",
       "      <td>0.222222</td>\n",
       "    </tr>\n",
       "  </tbody>\n",
       "</table>\n",
       "</div>"
      ],
      "text/plain": [
       "                                 0  Metric_Score  New_Weights_%\n",
       "twitter_followers         0.003826             1       0.027778\n",
       "TikTok_followers          0.008041             2       0.055556\n",
       "TikTok_Genz_followers     0.009570             3       0.083333\n",
       "Youtube_subscribers       0.009894             4       0.111111\n",
       "Instagram_followers       0.017655             5       0.138889\n",
       "Instagram_Genz_followers  0.019280             6       0.166667\n",
       "spotify_followers         0.019816             7       0.194444\n",
       "Youtube_Genz_subscribers  0.024955             8       0.222222"
      ]
     },
     "execution_count": 261,
     "metadata": {},
     "output_type": "execute_result"
    }
   ],
   "source": [
    "new_df_A"
   ]
  },
  {
   "cell_type": "markdown",
   "metadata": {
    "id": "BFyzQG3Wyf4b"
   },
   "source": [
    "**Finding New Weighted Average Score**"
   ]
  },
  {
   "cell_type": "code",
   "execution_count": 262,
   "metadata": {
    "id": "ig0Png-nhEYL"
   },
   "outputs": [],
   "source": [
    "df_fi['New_Weighted_Average_Score_twitter_followers'] = df_fi['twitter_followers_zscore'] * new_df_A['New_Weights_%']['twitter_followers']\n",
    "df_fi['New_Weighted_Average_Score_spotify_followers'] = df_fi['spotify_followers_zscore'] * new_df_A['New_Weights_%']['spotify_followers']\n",
    "df_fi['New_Weighted_Average_Score_Instagram_followers'] = df_fi['Instagram_followers_zscore'] * new_df_A['New_Weights_%']['Instagram_followers']\n",
    "df_fi['New_Weighted_Average_Score_TikTok_Genz_followers'] = df_fi['TikTok_Genz_followers_zscore'] * new_df_A['New_Weights_%']['TikTok_Genz_followers']\n",
    "df_fi['New_Weighted_Average_Score_Instagram_Genz_followers'] = df_fi['Instagram_Genz_followers_zscore'] * new_df_A['New_Weights_%']['Instagram_Genz_followers']\n",
    "df_fi['New_Weighted_Average_Score_Youtube_Genz_subscribers'] = df_fi['Youtube_Genz_subscribers_zscore'] * new_df_A['New_Weights_%']['Youtube_Genz_subscribers']\n",
    "df_fi['New_Weighted_Average_Score_Youtube_subscribers'] = df_fi['Youtube_subscribers_zscore'] * new_df_A['New_Weights_%']['Youtube_subscribers']\n",
    "df_fi['New_Weighted_Average_Score_TikTok_followers'] = df_fi['TikTok_followers_zscore'] * new_df_A['New_Weights_%']['TikTok_followers']\n",
    "\n",
    "#----------------------------------------------------------------------------------------------------------------------------------------#\n",
    "\n",
    "\n",
    "df_fi['New_Weighted_Average_Score_twitter_retweets'] = df_fi['twitter_retweets_zscore'] * new_df_C['New_Weights_%']['twitter_retweets']\n",
    "df_fi['New_Weighted_Average_Score_youtube_monthly_video_views'] = df_fi['youtube_monthly_video_views_zscore'] * new_df_C['New_Weights_%']['youtube_monthly_video_views']\n",
    "df_fi['New_Weighted_Average_Score_spotify_monthly_listeners'] = df_fi['spotify_monthly_listeners_zscore'] * new_df_C['New_Weights_%']['spotify_monthly_listeners']\n",
    "df_fi['New_Weighted_Average_Score_TikTok_total_views_for_top_n_tracks'] = df_fi['TikTok_total_views_for_top_n_tracks_zscore'] * new_df_C['New_Weights_%']['TikTok_total_views_for_top_n_tracks']\n",
    "\n",
    "#---------------------------------------------------------------------------------------------------------------------------------------#\n",
    "\n",
    "df_fi['New_Weighted_Average_Score_Instagram_avg_engagements_per_post'] = df_fi['Instagram_avg_engagements_per_post_zscore'] * new_df_E['New_Weights_%']['Instagram_avg_engagements_per_post']\n",
    "df_fi['New_Weighted_Average_Score_Youtube_avg_engagements_per_post'] = df_fi['Youtube_avg_engagements_per_post_zscore'] * new_df_E['New_Weights_%']['Youtube_avg_engagements_per_post']\n",
    "df_fi['New_Weighted_Average_Score_TikTok_avg_engagements_per_post'] = df_fi['TikTok_avg_engagements_per_post_zscore'] * new_df_E['New_Weights_%']['TikTok_avg_engagements_per_post']\n",
    "df_fi['New_Weighted_Average_Score_facebook_talks'] = df_fi['facebook_talks_zscore'] * new_df_E['New_Weights_%']['facebook_talks']\n",
    "df_fi['New_Weighted_Average_Score_facebook_likes'] = df_fi['facebook_likes_zscore'] * new_df_E['New_Weights_%']['facebook_likes']\n",
    "\n",
    "#----------------------------------------------------------------------------------------------------------------------------------------#\n"
   ]
  },
  {
   "cell_type": "markdown",
   "metadata": {
    "id": "T6yzj8avM0Dy"
   },
   "source": [
    "**Finding the Audience Score, Content Performance Score, Engagement Score, and Final Score**"
   ]
  },
  {
   "cell_type": "code",
   "execution_count": 263,
   "metadata": {
    "id": "OUDKX10mrAMW"
   },
   "outputs": [],
   "source": [
    "df_fi['Audience_Score'] = df_fi['New_Weighted_Average_Score_twitter_followers'] + df_fi['New_Weighted_Average_Score_spotify_followers'] + df_fi['New_Weighted_Average_Score_Instagram_followers'] +  \\\n",
    "                          df_fi['New_Weighted_Average_Score_TikTok_Genz_followers'] + df_fi['New_Weighted_Average_Score_Instagram_Genz_followers'] +  \\\n",
    "                          df_fi['New_Weighted_Average_Score_Youtube_Genz_subscribers'] + df_fi['New_Weighted_Average_Score_Youtube_subscribers'] + df_fi['New_Weighted_Average_Score_TikTok_followers']\n",
    "#----------------------------------------------------------------------------------------------------------------------------------------#\n",
    "\n",
    "\n",
    "df_fi['Content_Performance_Score'] = df_fi['New_Weighted_Average_Score_twitter_retweets'] + df_fi['New_Weighted_Average_Score_youtube_monthly_video_views'] +  \\\n",
    "                                      df_fi['New_Weighted_Average_Score_spotify_monthly_listeners'] + df_fi['New_Weighted_Average_Score_TikTok_total_views_for_top_n_tracks']\n",
    "#---------------------------------------------------------------------------------------------------------------------------------------#\n",
    "\n",
    "df_fi['Engagement_Score'] = df_fi['New_Weighted_Average_Score_Instagram_avg_engagements_per_post'] + df_fi['New_Weighted_Average_Score_Youtube_avg_engagements_per_post'] +  \\\n",
    "                            df_fi['New_Weighted_Average_Score_TikTok_avg_engagements_per_post'] + df_fi['New_Weighted_Average_Score_facebook_talks'] +  \\\n",
    "                            df_fi['New_Weighted_Average_Score_facebook_likes']\n",
    "#----------------------------------------------------------------------------------------------------------------------------------------#\n"
   ]
  },
  {
   "cell_type": "code",
   "execution_count": 264,
   "metadata": {
    "id": "kYCEsR0Nx-E6"
   },
   "outputs": [],
   "source": [
    "df_fi['Final_Selection_Score'] = (df_fi['Audience_Score'] + df_fi['Content_Performance_Score'] + df_fi['Engagement_Score'])*(1/3)"
   ]
  },
  {
   "cell_type": "code",
   "execution_count": 266,
   "metadata": {
    "id": "IqHdgHZU4a_I"
   },
   "outputs": [],
   "source": [
    "for col in list(df_fi.columns):\n",
    "  if col.endswith('_Score'):\n",
    "    col_score_bucket_label = col + '_Label'\n",
    "    df_fi[col_score_bucket_label] = df_fi[col].apply(lambda x: map_score_bucket_label(x))"
   ]
  },
  {
   "cell_type": "code",
   "execution_count": 267,
   "metadata": {
    "colab": {
     "base_uri": "https://localhost:8080/"
    },
    "id": "5HeKFQ8lmbKj",
    "outputId": "9658ce29-b052-43be-b508-44edf854e25f"
   },
   "outputs": [],
   "source": [
    "df_final = df_fi.drop(df_fi.filter(regex='New_Weighted_Average_Score_').columns, axis=1)"
   ]
  },
  {
   "cell_type": "code",
   "execution_count": null,
   "metadata": {},
   "outputs": [],
   "source": [
    "from google.oauth2 import service_account\n",
    "import pandas_gbq\n",
    "\n",
    "# Define your BigQuery project ID and credentials\n",
    "project_id = 'tech-cali-b2c'\n",
    "credentials = service_account.Credentials.from_service_account_file('/content/drive/MyDrive/tech-cali-b2c-72b3e690e309-Compute-Engine.json')\n",
    "\n",
    "# Define the BigQuery table name and dataset ID\n",
    "dataset_id = 'CE_ML_Layer'\n",
    "table_name = 'New_Weights_Score'\n",
    "\n",
    "# Write the dataframe to BigQuery\n",
    "pandas_gbq.to_gbq(df_final, f'{dataset_id}.{table_name}', project_id=project_id, if_exists='replace', credentials=credentials)\n",
    "\n",
    "print('Data moved to BigQuery successfully!')"
   ]
  }
 ],
 "metadata": {
  "colab": {
   "provenance": []
  },
  "kernelspec": {
   "display_name": "Python 3 (ipykernel)",
   "language": "python",
   "name": "python3"
  },
  "language_info": {
   "codemirror_mode": {
    "name": "ipython",
    "version": 3
   },
   "file_extension": ".py",
   "mimetype": "text/x-python",
   "name": "python",
   "nbconvert_exporter": "python",
   "pygments_lexer": "ipython3",
   "version": "3.9.13"
  }
 },
 "nbformat": 4,
 "nbformat_minor": 1
}
