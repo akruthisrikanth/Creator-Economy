{
 "cells": [
  {
   "cell_type": "code",
   "execution_count": 15,
   "metadata": {
    "executionInfo": {
     "elapsed": 131,
     "status": "ok",
     "timestamp": 1689358149168,
     "user": {
      "displayName": "Akruthi Srikanth (LatentView)",
      "userId": "04879770549239053900"
     },
     "user_tz": 420
    },
    "id": "r3gfKsHIebw5"
   },
   "outputs": [],
   "source": [
    "import math\n",
    "from google.cloud import bigquery"
   ]
  },
  {
   "cell_type": "code",
   "execution_count": 16,
   "metadata": {
    "executionInfo": {
     "elapsed": 2352,
     "status": "ok",
     "timestamp": 1689358151735,
     "user": {
      "displayName": "Akruthi Srikanth (LatentView)",
      "userId": "04879770549239053900"
     },
     "user_tz": 420
    },
    "id": "11N3Sz5tfpYn"
   },
   "outputs": [],
   "source": [
    "client = bigquery.Client.from_service_account_json(r'C:\\Users\\AkruthiSrikanth\\Downloads\\tech-cali-b2c-72b3e690e309-Compute-Engine.json')\n",
    "\n",
    "project_id1 = 'tech-cali-b2c'\n",
    "dataset_id1 = 'CE_ML_Layer'\n",
    "table_id1 = 'Z_Scoring'\n",
    "\n",
    "df_fi = client.query(f\"SELECT * FROM `{project_id1}.{dataset_id1}.{table_id1}`\").to_dataframe()"
   ]
  },
  {
   "cell_type": "code",
   "execution_count": 17,
   "metadata": {
    "executionInfo": {
     "elapsed": 1596,
     "status": "ok",
     "timestamp": 1689358153328,
     "user": {
      "displayName": "Akruthi Srikanth (LatentView)",
      "userId": "04879770549239053900"
     },
     "user_tz": 420
    },
    "id": "fb7zPXeIiRjP"
   },
   "outputs": [],
   "source": [
    "project_id2 = 'tech-cali-b2c'\n",
    "dataset_id2 = 'CE_ML_Layer'\n",
    "table_id2 = 'Feature_Importance'\n",
    "\n",
    "feature_imp = client.query(f\"SELECT * FROM `{project_id2}.{dataset_id2}.{table_id2}`\").to_dataframe()"
   ]
  },
  {
   "cell_type": "code",
   "execution_count": 18,
   "metadata": {
    "executionInfo": {
     "elapsed": 6,
     "status": "ok",
     "timestamp": 1689358153329,
     "user": {
      "displayName": "Akruthi Srikanth (LatentView)",
      "userId": "04879770549239053900"
     },
     "user_tz": 420
    },
    "id": "wJXNSQ79fpd_"
   },
   "outputs": [],
   "source": [
    "def map_score_bucket_label(score_bucket):\n",
    "  if math.ceil(score_bucket) >= 8:\n",
    "    return \"8.Extremely High\"\n",
    "  elif math.ceil(score_bucket) >= 7:\n",
    "    return \"7.Very High\"\n",
    "  elif math.ceil(score_bucket) >= 6:\n",
    "    return \"6.High\"\n",
    "  elif math.ceil(score_bucket) >= 5:\n",
    "    return \"5.Above Medium\"\n",
    "  elif math.ceil(score_bucket) >= 4:\n",
    "    return \"4.Medium\"\n",
    "  elif math.ceil(score_bucket) >= 3:\n",
    "    return \"3.Below Medium\"\n",
    "  elif math.ceil(score_bucket) >= 2:\n",
    "    return \"2.Low\"\n",
    "  elif math.ceil(score_bucket) >= 1:\n",
    "    return \"1.Very Low\"\n",
    "  else:\n",
    "    return \"0.Not Applicable\""
   ]
  },
  {
   "cell_type": "markdown",
   "metadata": {
    "id": "-hGW_iFTfrT7"
   },
   "source": [
    "**Finding Metric Score**"
   ]
  },
  {
   "cell_type": "code",
   "execution_count": 19,
   "metadata": {
    "executionInfo": {
     "elapsed": 4,
     "status": "ok",
     "timestamp": 1689358153329,
     "user": {
      "displayName": "Akruthi Srikanth (LatentView)",
      "userId": "04879770549239053900"
     },
     "user_tz": 420
    },
    "id": "2wHeKlvefpgX"
   },
   "outputs": [],
   "source": [
    "df_A_Score = feature_imp[['spotify_followers','Instagram_followers','Instagram_Genz_followers','TikTok_followers','TikTok_Genz_followers',\n",
    "                          'Youtube_subscribers','twitter_followers','Youtube_Genz_subscribers']]\n",
    "df_C_Score = feature_imp[['youtube_monthly_video_views','TikTok_total_views_for_top_n_tracks','spotify_monthly_listeners','twitter_retweets']]\n",
    "df_E_Score = feature_imp[['TikTok_avg_engagements_per_post','Instagram_avg_engagements_per_post','facebook_likes','facebook_talks',\n",
    "                          'Youtube_avg_engagements_per_post']]"
   ]
  },
  {
   "cell_type": "code",
   "execution_count": 20,
   "metadata": {
    "executionInfo": {
     "elapsed": 3,
     "status": "ok",
     "timestamp": 1689358153329,
     "user": {
      "displayName": "Akruthi Srikanth (LatentView)",
      "userId": "04879770549239053900"
     },
     "user_tz": 420
    },
    "id": "w_FQ2AkmfXAK"
   },
   "outputs": [],
   "source": [
    "new1 = df_A_Score.transpose()\n",
    "new2 = df_C_Score.transpose()\n",
    "new3 = df_E_Score.transpose()"
   ]
  },
  {
   "cell_type": "code",
   "execution_count": 21,
   "metadata": {
    "executionInfo": {
     "elapsed": 3,
     "status": "ok",
     "timestamp": 1689358153329,
     "user": {
      "displayName": "Akruthi Srikanth (LatentView)",
      "userId": "04879770549239053900"
     },
     "user_tz": 420
    },
    "id": "7Mmw6lhMfYzS"
   },
   "outputs": [],
   "source": [
    "new_df_A = new1.sort_values(0, ascending = True)\n",
    "new_df_C = new2.sort_values(0, ascending = True)\n",
    "new_df_E = new3.sort_values(0, ascending = True)"
   ]
  },
  {
   "cell_type": "code",
   "execution_count": 22,
   "metadata": {
    "executionInfo": {
     "elapsed": 3,
     "status": "ok",
     "timestamp": 1689358153329,
     "user": {
      "displayName": "Akruthi Srikanth (LatentView)",
      "userId": "04879770549239053900"
     },
     "user_tz": 420
    },
    "id": "a_yU4clIfY16"
   },
   "outputs": [],
   "source": [
    "new_df_A[\"Metric_Score\"] = [1,2,3,4,5,6,7,8]\n",
    "new_df_C[\"Metric_Score\"] = [1,2,3,4]\n",
    "new_df_E[\"Metric_Score\"] = [1,2,3,4,5]"
   ]
  },
  {
   "cell_type": "markdown",
   "metadata": {
    "id": "SLrhgrIIfwcd"
   },
   "source": [
    "**Finding New Weights**"
   ]
  },
  {
   "cell_type": "code",
   "execution_count": 23,
   "metadata": {
    "executionInfo": {
     "elapsed": 154,
     "status": "ok",
     "timestamp": 1689358153481,
     "user": {
      "displayName": "Akruthi Srikanth (LatentView)",
      "userId": "04879770549239053900"
     },
     "user_tz": 420
    },
    "id": "FtDL0zJufY4c"
   },
   "outputs": [],
   "source": [
    "new_df_A[\"New_Weights_%\"] = new_df_A['Metric_Score']/sum(new_df_A['Metric_Score'])\n",
    "new_df_C[\"New_Weights_%\"] = new_df_C['Metric_Score']/sum(new_df_C['Metric_Score'])\n",
    "new_df_E[\"New_Weights_%\"] = new_df_E['Metric_Score']/sum(new_df_E['Metric_Score'])"
   ]
  },
  {
   "cell_type": "markdown",
   "metadata": {
    "id": "JvD2xZXKfztm"
   },
   "source": [
    "**Finding New Weighted Average Score**"
   ]
  },
  {
   "cell_type": "code",
   "execution_count": 24,
   "metadata": {
    "executionInfo": {
     "elapsed": 9,
     "status": "ok",
     "timestamp": 1689358153482,
     "user": {
      "displayName": "Akruthi Srikanth (LatentView)",
      "userId": "04879770549239053900"
     },
     "user_tz": 420
    },
    "id": "qhhpCL1UfY6y"
   },
   "outputs": [],
   "source": [
    "df_fi['New_Weighted_Average_Score_twitter_followers'] = df_fi['twitter_followers_zscore'] * new_df_A['New_Weights_%']['twitter_followers']\n",
    "df_fi['New_Weighted_Average_Score_spotify_followers'] = df_fi['spotify_followers_zscore'] * new_df_A['New_Weights_%']['spotify_followers']\n",
    "df_fi['New_Weighted_Average_Score_Instagram_followers'] = df_fi['Instagram_followers_zscore'] * new_df_A['New_Weights_%']['Instagram_followers']\n",
    "df_fi['New_Weighted_Average_Score_TikTok_Genz_followers'] = df_fi['TikTok_Genz_followers_zscore'] * new_df_A['New_Weights_%']['TikTok_Genz_followers']\n",
    "df_fi['New_Weighted_Average_Score_Instagram_Genz_followers'] = df_fi['Instagram_Genz_followers_zscore'] * new_df_A['New_Weights_%']['Instagram_Genz_followers']\n",
    "df_fi['New_Weighted_Average_Score_Youtube_Genz_subscribers'] = df_fi['Youtube_Genz_subscribers_zscore'] * new_df_A['New_Weights_%']['Youtube_Genz_subscribers']\n",
    "df_fi['New_Weighted_Average_Score_Youtube_subscribers'] = df_fi['Youtube_subscribers_zscore'] * new_df_A['New_Weights_%']['Youtube_subscribers']\n",
    "df_fi['New_Weighted_Average_Score_TikTok_followers'] = df_fi['TikTok_followers_zscore'] * new_df_A['New_Weights_%']['TikTok_followers']\n",
    "\n",
    "#----------------------------------------------------------------------------------------------------------------------------------------#\n",
    "\n",
    "\n",
    "df_fi['New_Weighted_Average_Score_twitter_retweets'] = df_fi['twitter_retweets_zscore'] * new_df_C['New_Weights_%']['twitter_retweets']\n",
    "df_fi['New_Weighted_Average_Score_youtube_monthly_video_views'] = df_fi['youtube_monthly_video_views_zscore'] * new_df_C['New_Weights_%']['youtube_monthly_video_views']\n",
    "df_fi['New_Weighted_Average_Score_spotify_monthly_listeners'] = df_fi['spotify_monthly_listeners_zscore'] * new_df_C['New_Weights_%']['spotify_monthly_listeners']\n",
    "df_fi['New_Weighted_Average_Score_TikTok_total_views_for_top_n_tracks'] = df_fi['TikTok_total_views_for_top_n_tracks_zscore'] * new_df_C['New_Weights_%']['TikTok_total_views_for_top_n_tracks']\n",
    "\n",
    "#---------------------------------------------------------------------------------------------------------------------------------------#\n",
    "\n",
    "df_fi['New_Weighted_Average_Score_Instagram_avg_engagements_per_post'] = df_fi['Instagram_avg_engagements_per_post_zscore'] * new_df_E['New_Weights_%']['Instagram_avg_engagements_per_post']\n",
    "df_fi['New_Weighted_Average_Score_Youtube_avg_engagements_per_post'] = df_fi['Youtube_avg_engagements_per_post_zscore'] * new_df_E['New_Weights_%']['Youtube_avg_engagements_per_post']\n",
    "df_fi['New_Weighted_Average_Score_TikTok_avg_engagements_per_post'] = df_fi['TikTok_avg_engagements_per_post_zscore'] * new_df_E['New_Weights_%']['TikTok_avg_engagements_per_post']\n",
    "df_fi['New_Weighted_Average_Score_facebook_talks'] = df_fi['facebook_talks_zscore'] * new_df_E['New_Weights_%']['facebook_talks']\n",
    "df_fi['New_Weighted_Average_Score_facebook_likes'] = df_fi['facebook_likes_zscore'] * new_df_E['New_Weights_%']['facebook_likes']\n",
    "\n",
    "#----------------------------------------------------------------------------------------------------------------------------------------#"
   ]
  },
  {
   "cell_type": "markdown",
   "metadata": {
    "id": "_goAs9mGmGdf"
   },
   "source": [
    "**Finding the Audience Score, Content Performance Score, Engagement Score, and Final Score**"
   ]
  },
  {
   "cell_type": "code",
   "execution_count": 25,
   "metadata": {
    "executionInfo": {
     "elapsed": 151,
     "status": "ok",
     "timestamp": 1689358211146,
     "user": {
      "displayName": "Akruthi Srikanth (LatentView)",
      "userId": "04879770549239053900"
     },
     "user_tz": 420
    },
    "id": "ULDYf5v5mF0F"
   },
   "outputs": [],
   "source": [
    "df_fi['Audience_Score'] = df_fi['New_Weighted_Average_Score_twitter_followers'] + df_fi['New_Weighted_Average_Score_spotify_followers'] + df_fi['New_Weighted_Average_Score_Instagram_followers'] +  \\\n",
    "                          df_fi['New_Weighted_Average_Score_TikTok_Genz_followers'] + df_fi['New_Weighted_Average_Score_Instagram_Genz_followers'] +  \\\n",
    "                          df_fi['New_Weighted_Average_Score_Youtube_Genz_subscribers'] + df_fi['New_Weighted_Average_Score_Youtube_subscribers'] + df_fi['New_Weighted_Average_Score_TikTok_followers']\n",
    "#----------------------------------------------------------------------------------------------------------------------------------------#\n",
    "\n",
    "\n",
    "df_fi['Content_Performance_Score'] = df_fi['New_Weighted_Average_Score_twitter_retweets'] + df_fi['New_Weighted_Average_Score_youtube_monthly_video_views'] +  \\\n",
    "                                      df_fi['New_Weighted_Average_Score_spotify_monthly_listeners'] + df_fi['New_Weighted_Average_Score_TikTok_total_views_for_top_n_tracks']\n",
    "#---------------------------------------------------------------------------------------------------------------------------------------#\n",
    "\n",
    "df_fi['Engagement_Score'] = df_fi['New_Weighted_Average_Score_Instagram_avg_engagements_per_post'] + df_fi['New_Weighted_Average_Score_Youtube_avg_engagements_per_post'] +  \\\n",
    "                            df_fi['New_Weighted_Average_Score_TikTok_avg_engagements_per_post'] + df_fi['New_Weighted_Average_Score_facebook_talks'] +  \\\n",
    "                            df_fi['New_Weighted_Average_Score_facebook_likes']\n",
    "#----------------------------------------------------------------------------------------------------------------------------------------#\n"
   ]
  },
  {
   "cell_type": "code",
   "execution_count": 26,
   "metadata": {
    "executionInfo": {
     "elapsed": 137,
     "status": "ok",
     "timestamp": 1689358212963,
     "user": {
      "displayName": "Akruthi Srikanth (LatentView)",
      "userId": "04879770549239053900"
     },
     "user_tz": 420
    },
    "id": "H1Td5CNofY9U"
   },
   "outputs": [],
   "source": [
    "df_fi['Final_Selection_Score'] = (df_fi['Audience_Score'] + df_fi['Content_Performance_Score'] + df_fi['Engagement_Score'])*(1/3)"
   ]
  },
  {
   "cell_type": "code",
   "execution_count": 27,
   "metadata": {
    "executionInfo": {
     "elapsed": 166,
     "status": "ok",
     "timestamp": 1689358216527,
     "user": {
      "displayName": "Akruthi Srikanth (LatentView)",
      "userId": "04879770549239053900"
     },
     "user_tz": 420
    },
    "id": "gecJqFLifY_s"
   },
   "outputs": [],
   "source": [
    "for col in list(df_fi.columns):\n",
    "  if col.endswith('_Score'):\n",
    "    col_score_bucket_label = col + '_Label'\n",
    "    df_fi[col_score_bucket_label] = df_fi[col].apply(lambda x: map_score_bucket_label(x))"
   ]
  },
  {
   "cell_type": "code",
   "execution_count": 28,
   "metadata": {
    "colab": {
     "base_uri": "https://localhost:8080/"
    },
    "executionInfo": {
     "elapsed": 16533,
     "status": "ok",
     "timestamp": 1689358235139,
     "user": {
      "displayName": "Akruthi Srikanth (LatentView)",
      "userId": "04879770549239053900"
     },
     "user_tz": 420
    },
    "id": "RhtorOJ3gRAS",
    "outputId": "1d907d37-bdc0-4781-b8b7-6b06987f6a89"
   },
   "outputs": [
    {
     "name": "stderr",
     "output_type": "stream",
     "text": [
      "100%|███████████████████████████████████████████████████████████████████████████████████| 1/1 [00:00<00:00, 996.27it/s]"
     ]
    },
    {
     "name": "stdout",
     "output_type": "stream",
     "text": [
      "Data moved to BigQuery successfully!\n"
     ]
    },
    {
     "name": "stderr",
     "output_type": "stream",
     "text": [
      "\n"
     ]
    }
   ],
   "source": [
    "from google.oauth2 import service_account\n",
    "import pandas_gbq\n",
    "\n",
    "# Define your BigQuery project ID and credentials\n",
    "project_id = 'tech-cali-b2c'\n",
    "credentials = service_account.Credentials.from_service_account_file(r'C:\\Users\\AkruthiSrikanth\\Downloads\\tech-cali-b2c-72b3e690e309-Compute-Engine.json')\n",
    "\n",
    "# Define the BigQuery table name and dataset ID\n",
    "dataset_id = 'CE_ML_Layer'\n",
    "table_name = 'New_Weights_Score'\n",
    "\n",
    "# Write the dataframe to BigQuery\n",
    "pandas_gbq.to_gbq(df_fi, f'{dataset_id}.{table_name}', project_id=project_id, if_exists='replace', credentials=credentials, progress_bar=True)\n",
    "\n",
    "print('Data moved to BigQuery successfully!')"
   ]
  }
 ],
 "metadata": {
  "colab": {
   "authorship_tag": "ABX9TyMDbkK0sRxWaYi2iGNi8Z4j",
   "mount_file_id": "1XamtotzUJyeCVdPZrhF3hDsl8chqj2ll",
   "provenance": []
  },
  "kernelspec": {
   "display_name": "Python 3 (ipykernel)",
   "language": "python",
   "name": "python3"
  },
  "language_info": {
   "codemirror_mode": {
    "name": "ipython",
    "version": 3
   },
   "file_extension": ".py",
   "mimetype": "text/x-python",
   "name": "python",
   "nbconvert_exporter": "python",
   "pygments_lexer": "ipython3",
   "version": "3.9.13"
  }
 },
 "nbformat": 4,
 "nbformat_minor": 1
}
