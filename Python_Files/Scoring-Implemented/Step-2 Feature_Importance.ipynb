{
  "cells": [
    {
      "cell_type": "code",
      "execution_count": 2,
      "metadata": {
        "id": "ali148i0Q3B4"
      },
      "outputs": [],
      "source": [
        "from sklearn.feature_extraction.text import TfidfVectorizer\n",
        "from sklearn.decomposition import LatentDirichletAllocation\n",
        "from gensim import corpora, models\n",
        "from sklearn.preprocessing import StandardScaler\n",
        "from sklearn.preprocessing import LabelEncoder\n",
        "from sklearn.model_selection import train_test_split, cross_val_score, GridSearchCV\n",
        "import numpy as np\n",
        "from sklearn.metrics import mean_squared_error, r2_score, mean_absolute_error\n",
        "from sklearn.linear_model import LinearRegression\n",
        "from sklearn.linear_model import Ridge\n",
        "from sklearn.linear_model import Lasso\n",
        "from sklearn.svm import SVR\n",
        "from sklearn.tree import DecisionTreeRegressor\n",
        "from sklearn.ensemble import RandomForestRegressor\n",
        "import xgboost as xgb\n",
        "import numpy as np\n",
        "import pandas as pd\n",
        "from google.oauth2 import service_account\n",
        "import pandas_gbq\n",
        "from google.cloud import bigquery\n",
        "from scipy import stats"
      ]
    },
    {
      "cell_type": "code",
      "execution_count": 3,
      "metadata": {
        "id": "4yWI3vMtW-ai"
      },
      "outputs": [],
      "source": [
        "# Create a BigQuery client\n",
        "client = bigquery.Client.from_service_account_json(r'C:\\Users\\AkruthiSrikanth\\Downloads\\tech-cali-b2c-72b3e690e309-Compute-Engine.json')\n",
        "\n",
        "# Define your BigQuery table details\n",
        "project_id = 'tech-cali-b2c'\n",
        "dataset_id = 'CE_Analytics_Layer'\n",
        "table_id = 'Creator_Social_Profile'\n",
        "\n",
        "# Create a reference to the BigQuery table\n",
        "table_ref = client.dataset(dataset_id).table(table_id)\n",
        "\n",
        "# Retrieve the data from BigQuery into a DataFrame\n",
        "df_mod = client.query(f\"SELECT * FROM `{project_id}.{dataset_id}.{table_id}`\").to_dataframe()"
      ]
    },
    {
      "cell_type": "code",
      "execution_count": 4,
      "metadata": {
        "id": "fVxid_GrhxiX"
      },
      "outputs": [],
      "source": [
        "df = df_mod.drop_duplicates(subset=['artist_id'], keep='first')\n",
        "df = df[df['artist_id'] != \"\"]"
      ]
    },
    {
      "cell_type": "code",
      "execution_count": 5,
      "metadata": {
        "id": "p9eXvjZNh3N7"
      },
      "outputs": [],
      "source": [
        "df.iloc[:,3:] = df.iloc[:,3:].fillna('').replace('',0)"
      ]
    },
    {
      "cell_type": "code",
      "execution_count": 6,
      "metadata": {
        "id": "incpJEFah6Sl"
      },
      "outputs": [],
      "source": [
        "cols = ['Creator_ID', 'name', 'country_code', 'genres', 'artist_id']\n",
        "columns_select = list(df.drop(cols, axis=1).columns)\n",
        "for col in columns_select:\n",
        "    df[col] = df[col].astype('float')"
      ]
    },
    {
      "cell_type": "code",
      "execution_count": 7,
      "metadata": {
        "id": "kKskSu5fVueB"
      },
      "outputs": [],
      "source": [
        "df_fi = df.copy()"
      ]
    },
    {
      "cell_type": "code",
      "execution_count": 8,
      "metadata": {
        "id": "791IutRTaQDF"
      },
      "outputs": [],
      "source": [
        "# Label Encoding for Country code\n",
        "le = LabelEncoder()\n",
        "df_fi['country_code_label'] = le.fit_transform(df_fi['country_code'])"
      ]
    },
    {
      "cell_type": "code",
      "execution_count": 9,
      "metadata": {
        "id": "GfEDSyVoVvyx"
      },
      "outputs": [],
      "source": [
        "# Topic Modeling Code: Genre_Score (Topic distribution)\n",
        "def get_genre_score(topic_distribution):\n",
        "    most_likely_word = topic_distribution.argmax()\n",
        "    genre_score = lda.components_[most_likely_word][0]\n",
        "    return genre_score\n",
        "\n",
        "# Create a TF-IDF vectorizer : Finds importance of the term\n",
        "vectorizer = TfidfVectorizer(stop_words=\"english\")\n",
        "\n",
        "X = vectorizer.fit_transform(df_fi[\"genres\"])\n",
        "\n",
        "lda = LatentDirichletAllocation(n_components=10, random_state=0)\n",
        "\n",
        "lda.fit(X)\n",
        "\n",
        "topic_distributions = lda.transform(X)\n",
        "\n",
        "major_genres = []\n",
        "for i in range(len(df_fi)):\n",
        "    topic_distribution = topic_distributions[i]\n",
        "    major_genre = get_genre_score(topic_distribution)\n",
        "    major_genres.append(major_genre)\n",
        "\n",
        "# for i in range(len(data)):\n",
        "#   print('Document: ',i, major_genres[i])\n",
        "\n",
        "df_fi['genre_score'] = major_genres"
      ]
    },
    {
      "cell_type": "code",
      "execution_count": 10,
      "metadata": {
        "colab": {
          "base_uri": "https://localhost:8080/"
        },
        "id": "M3KMF60eVv1R",
        "outputId": "16273fe3-a2ab-48e1-d898-7876f97aec64"
      },
      "outputs": [
        {
          "output_type": "stream",
          "name": "stderr",
          "text": [
            "WARNING:gensim.models.ldamodel:too few updates, training might not converge; consider increasing the number of passes or iterations to improve accuracy\n"
          ]
        }
      ],
      "source": [
        "# Topic Modeling (Major Genre Label):\n",
        "genres_list = [genres.split(', ') for genres in df_fi['genres']]\n",
        "dictionary = corpora.Dictionary(genres_list)\n",
        "corpus = [dictionary.doc2bow(genres) for genres in genres_list]\n",
        "\n",
        "num_topics = 1  # Number of topics you want to extract (in this case, major genre)\n",
        "lda_model = models.LdaModel(corpus, num_topics=num_topics, id2word=dictionary)\n",
        "\n",
        "# Extract major genre for each row\n",
        "major_genres = []\n",
        "for genres in genres_list:\n",
        "    genre_counts = {}\n",
        "    for genre in genres:\n",
        "      genre_counts[genre] = genre_counts.get(genre, 0) + 1\n",
        "    major_genre = max(genre_counts, key=genre_counts.get)\n",
        "    major_genres.append(major_genre)\n",
        "\n",
        "df_fi['major_genre'] = major_genres"
      ]
    },
    {
      "cell_type": "markdown",
      "metadata": {
        "id": "6elCBlRFV4AH"
      },
      "source": [
        "**Data Preprocessing**"
      ]
    },
    {
      "cell_type": "code",
      "execution_count": 11,
      "metadata": {
        "id": "-IAapG9bVv3x"
      },
      "outputs": [],
      "source": [
        "df_rf = df_fi.drop(['Creator_ID', 'name', 'country_code', 'genres', 'major_genre', 'artist_id', 'youtube_daily_video_views','youtube_channel_views',\n",
        "           'TikTok_Genz_followers_percentage','Instagram_Genz_followers_percentage','TikTok_number_of_top_tracks',\n",
        "           'TikTok_avg_creations_for_top_n_tracks','TikTok_avg_views_for_top_n_tracks', 'Youtube_Genz_subscribers_percentage'], axis=1)\n",
        "# df_rf = df_new.drop(df_new.filter(regex='_z_score|_z_score_label|_zscore'), axis=1)\n",
        "\n",
        "\n",
        "\n",
        "df_filled = df_rf.fillna(df_rf.median())"
      ]
    },
    {
      "cell_type": "code",
      "execution_count": 12,
      "metadata": {
        "colab": {
          "base_uri": "https://localhost:8080/"
        },
        "id": "m5BvMAOtZ-__",
        "outputId": "f7470e48-7268-49aa-9378-308c5989e5b3"
      },
      "outputs": [
        {
          "output_type": "execute_result",
          "data": {
            "text/plain": [
              "['spotify_followers',\n",
              " 'spotify_monthly_listeners',\n",
              " 'facebook_likes',\n",
              " 'facebook_talks',\n",
              " 'twitter_followers',\n",
              " 'twitter_retweets',\n",
              " 'youtube_monthly_video_views',\n",
              " 'TikTok_followers',\n",
              " 'TikTok_Genz_followers',\n",
              " 'TikTok_avg_engagements_per_post',\n",
              " 'TikTok_total_creations_for_top_n_tracks',\n",
              " 'TikTok_total_views_for_top_n_tracks',\n",
              " 'Instagram_followers',\n",
              " 'Instagram_Genz_followers',\n",
              " 'Instagram_avg_engagements_per_post',\n",
              " 'Youtube_subscribers',\n",
              " 'Youtube_Genz_subscribers',\n",
              " 'Youtube_avg_engagements_per_post',\n",
              " 'country_code_label',\n",
              " 'genre_score']"
            ]
          },
          "metadata": {},
          "execution_count": 12
        }
      ],
      "source": [
        "df_filled.columns.tolist()"
      ]
    },
    {
      "cell_type": "markdown",
      "metadata": {
        "id": "fO6yCIGZV-ki"
      },
      "source": [
        "**Standard Scaling**"
      ]
    },
    {
      "cell_type": "code",
      "execution_count": 13,
      "metadata": {
        "id": "6k1XgbyeVv6Z"
      },
      "outputs": [],
      "source": [
        "scaler = StandardScaler()\n",
        "\n",
        "scaler.fit(df_filled)\n",
        "\n",
        "scaled_data = scaler.transform(df_filled)\n",
        "\n",
        "column_names = scaler.get_feature_names_out()\n",
        "\n",
        "scaled_df = pd.DataFrame(scaled_data, columns=column_names)"
      ]
    },
    {
      "cell_type": "markdown",
      "metadata": {
        "id": "4WsHU4AqWCl4"
      },
      "source": [
        "**Train Test Split**"
      ]
    },
    {
      "cell_type": "code",
      "execution_count": 14,
      "metadata": {
        "colab": {
          "base_uri": "https://localhost:8080/"
        },
        "id": "3OsZxQ7mVv9A",
        "outputId": "ed0616b3-8c8e-4ac4-e7f7-7f6c700cbb0f"
      },
      "outputs": [
        {
          "output_type": "stream",
          "name": "stdout",
          "text": [
            "Training set size: (2917, 19)\n",
            "Testing set size: (730, 19)\n"
          ]
        }
      ],
      "source": [
        "# Separate features and target variable\n",
        "X = scaled_df.drop('TikTok_total_creations_for_top_n_tracks', axis=1)\n",
        "y = scaled_df['TikTok_total_creations_for_top_n_tracks']\n",
        "\n",
        "# Train and test split\n",
        "\n",
        "X_train, X_test, y_train, y_test = train_test_split(X, y, test_size=0.2, random_state=123)\n",
        "print(f\"Training set size: {X_train.shape}\")\n",
        "print(f\"Testing set size: {X_test.shape}\")"
      ]
    },
    {
      "cell_type": "markdown",
      "metadata": {
        "id": "gQZYX2MmWHIU"
      },
      "source": [
        "**Model Building and Hyperparameter Tuning**"
      ]
    },
    {
      "cell_type": "code",
      "execution_count": 15,
      "metadata": {
        "id": "9A8sNBWfVv_f"
      },
      "outputs": [],
      "source": [
        "# Function to calculate R-Square and RMSE\n",
        "score_log = pd.DataFrame()\n",
        "def score(model, name , x_test, y_test, position):\n",
        "    y_pred = model.predict(x_test)\n",
        "    score_log.loc[position, \"Description\"] = name\n",
        "    score_log.loc[position, \"R-Square\"] = round(r2_score(y_test, y_pred), 3)\n",
        "    score_log.loc[position,\"MSE\"] = round(mean_squared_error(y_test, y_pred), 3)\n",
        "    score_log.loc[position, \"RMSE\"] = round(np.sqrt(mean_squared_error(y_test, y_pred)), 3)\n",
        "    score_log.loc[position, \"MAE\"] = round(mean_absolute_error(y_test, y_pred), 3)\n",
        "    return score_log"
      ]
    },
    {
      "cell_type": "code",
      "execution_count": 16,
      "metadata": {
        "id": "gANuTONBvCve"
      },
      "outputs": [],
      "source": [
        "confidence_level = 0.95\n",
        "def calculate_confidence_interval(scores):\n",
        "  degrees_of_freedom = len(scores) - 1\n",
        "  alpha = 1 - confidence_level\n",
        "\n",
        "  mean_squared_error_mean = scores.mean()\n",
        "  mean_squared_error_std = scores.std()\n",
        "  t_critical = stats.t.ppf(1 - alpha / 2, degrees_of_freedom)\n",
        "\n",
        "  margin_of_error = t_critical * (mean_squared_error_std / len(scores) ** 0.5)\n",
        "  confidence_interval = (mean_squared_error_mean - margin_of_error, mean_squared_error_mean + margin_of_error)\n",
        "  return confidence_interval"
      ]
    },
    {
      "cell_type": "code",
      "execution_count": 17,
      "metadata": {
        "colab": {
          "base_uri": "https://localhost:8080/"
        },
        "id": "9o3yWwKlVwCE",
        "outputId": "637086ee-9eb1-4498-c7b6-c9079b41d20b"
      },
      "outputs": [
        {
          "output_type": "stream",
          "name": "stdout",
          "text": [
            "Confidence Interval (95.00%): (0.2933460311293135, 0.684226181699465)\n"
          ]
        }
      ],
      "source": [
        "# Linear Regression\n",
        "lr = LinearRegression()\n",
        "\n",
        "scores = cross_val_score(lr, X_train, y_train, cv=10, scoring='neg_mean_squared_error')\n",
        "scores = abs(scores)\n",
        "\n",
        "lr.fit(X_train, y_train)\n",
        "\n",
        "confidence_interval = calculate_confidence_interval(scores)\n",
        "print(f\"Confidence Interval ({confidence_level * 100:.2f}%): {confidence_interval}\")"
      ]
    },
    {
      "cell_type": "code",
      "execution_count": 18,
      "metadata": {
        "colab": {
          "base_uri": "https://localhost:8080/"
        },
        "id": "ZL31ISg37bAU",
        "outputId": "115aa302-91e8-4db1-f517-7df5e09f0b24"
      },
      "outputs": [
        {
          "output_type": "stream",
          "name": "stdout",
          "text": [
            "Confidence Interval (95.00%): (0.29330382362480617, 0.6837780147129078)\n"
          ]
        }
      ],
      "source": [
        "# Ridge Regression\n",
        "ridge = Ridge()\n",
        "\n",
        "scores = cross_val_score(ridge, X_train, y_train, cv=10, scoring='neg_mean_squared_error')\n",
        "scores = abs(scores)\n",
        "\n",
        "ridge.fit(X_train, y_train)\n",
        "\n",
        "confidence_interval = calculate_confidence_interval(scores)\n",
        "print(f\"Confidence Interval ({confidence_level * 100:.2f}%): {confidence_interval}\")"
      ]
    },
    {
      "cell_type": "code",
      "execution_count": 19,
      "metadata": {
        "colab": {
          "base_uri": "https://localhost:8080/"
        },
        "id": "qN4fRN2q71V2",
        "outputId": "cfde8a46-f75c-470e-c1e3-1571901ff088"
      },
      "outputs": [
        {
          "output_type": "stream",
          "name": "stdout",
          "text": [
            "Confidence Interval (95.00%): (0.7064884710098477, 1.365129370858043)\n"
          ]
        }
      ],
      "source": [
        "# Lasso Regression\n",
        "lasso = Lasso()\n",
        "\n",
        "scores = cross_val_score(lasso, X_train, y_train, cv=10, scoring='neg_mean_squared_error')\n",
        "scores = abs(scores)\n",
        "\n",
        "lasso.fit(X_train, y_train)\n",
        "\n",
        "confidence_interval = calculate_confidence_interval(scores)\n",
        "print(f\"Confidence Interval ({confidence_level * 100:.2f}%): {confidence_interval}\")"
      ]
    },
    {
      "cell_type": "code",
      "execution_count": 20,
      "metadata": {
        "colab": {
          "base_uri": "https://localhost:8080/"
        },
        "id": "3cKIJoqkVwEK",
        "outputId": "2e86e17a-963e-4d25-fb20-c7829c2693bc"
      },
      "outputs": [
        {
          "output_type": "stream",
          "name": "stdout",
          "text": [
            "Confidence Interval (95.00%): (0.6057274433594396, 1.0473236015670095)\n"
          ]
        }
      ],
      "source": [
        "# Decision Tree\n",
        "dtr = DecisionTreeRegressor()\n",
        "\n",
        "scores = cross_val_score(dtr, X_train, y_train, cv=10, scoring='neg_mean_squared_error')\n",
        "scores = abs(scores)\n",
        "\n",
        "dtr.fit(X_train, y_train)\n",
        "\n",
        "confidence_interval = calculate_confidence_interval(scores)\n",
        "print(f\"Confidence Interval ({confidence_level * 100:.2f}%): {confidence_interval}\")"
      ]
    },
    {
      "cell_type": "code",
      "execution_count": 21,
      "metadata": {
        "colab": {
          "base_uri": "https://localhost:8080/"
        },
        "id": "OOaKfLOY76lA",
        "outputId": "9e2e9cfa-3f7d-4713-c0c2-2dea94535984"
      },
      "outputs": [
        {
          "output_type": "stream",
          "name": "stdout",
          "text": [
            "Confidence Interval (95.00%): (0.28865993296137027, 0.7104682852738894)\n"
          ]
        }
      ],
      "source": [
        "# SVR\n",
        "svr = SVR(kernel=\"linear\")\n",
        "\n",
        "scores = cross_val_score(svr, X_train, y_train, cv=10, scoring='neg_mean_squared_error')\n",
        "scores = abs(scores)\n",
        "\n",
        "svr.fit(X_train, y_train)\n",
        "\n",
        "confidence_interval = calculate_confidence_interval(scores)\n",
        "print(f\"Confidence Interval ({confidence_level * 100:.2f}%): {confidence_interval}\")"
      ]
    },
    {
      "cell_type": "code",
      "execution_count": 22,
      "metadata": {
        "colab": {
          "base_uri": "https://localhost:8080/"
        },
        "id": "12jvp2i3WMwq",
        "outputId": "a89e7b05-5594-4a3c-8fc1-d0d05ea1c0dd"
      },
      "outputs": [
        {
          "output_type": "stream",
          "name": "stdout",
          "text": [
            "Confidence Interval (95.00%): (0.3403985802607266, 0.6961644365255766)\n"
          ]
        }
      ],
      "source": [
        "# Random Forest\n",
        "rf_1 = RandomForestRegressor()\n",
        "rf_1.fit(X_train, y_train)\n",
        "\n",
        "scores = cross_val_score(rf_1, X_train, y_train, cv=10, scoring='neg_mean_squared_error')\n",
        "scores = abs(scores)\n",
        "\n",
        "confidence_interval = calculate_confidence_interval(scores)\n",
        "print(f\"Confidence Interval ({confidence_level * 100:.2f}%): {confidence_interval}\")"
      ]
    },
    {
      "cell_type": "code",
      "execution_count": 23,
      "metadata": {
        "colab": {
          "base_uri": "https://localhost:8080/"
        },
        "id": "_OBp_ncJWMzj",
        "outputId": "319d3121-a2bc-4ec3-efaf-86adbcd939d6"
      },
      "outputs": [
        {
          "output_type": "stream",
          "name": "stdout",
          "text": [
            "Confidence Interval (95.00%): (0.3270265958386841, 0.6916172240901998)\n"
          ]
        }
      ],
      "source": [
        "#Random Forest Tuning\n",
        "param_grid = [{\"n_estimators\": [100, 200, 300, 400, 500],\n",
        "              \"max_depth\": [7, 9, 12, 15],\n",
        "              \"min_samples_split\": [5, 7, 12]}]\n",
        "\n",
        "rf_t = RandomForestRegressor()\n",
        "grid_cv = GridSearchCV(rf_t, param_grid, cv=2, n_jobs=-1)\n",
        "grid_cv.fit(X_train, y_train)\n",
        "\n",
        "best_estimator1 = grid_cv.best_estimator_\n",
        "\n",
        "scores = cross_val_score(best_estimator1, X_train, y_train, cv=10, scoring='neg_mean_squared_error')\n",
        "scores = np.abs(scores)\n",
        "\n",
        "confidence_interval = calculate_confidence_interval(scores)\n",
        "print(f\"Confidence Interval ({confidence_level * 100:.2f}%): {confidence_interval}\")"
      ]
    },
    {
      "cell_type": "code",
      "execution_count": 24,
      "metadata": {
        "colab": {
          "base_uri": "https://localhost:8080/"
        },
        "id": "lfEpLhykWM2U",
        "outputId": "2d115be2-079e-46e5-cf6c-516b6b3f15a9"
      },
      "outputs": [
        {
          "output_type": "stream",
          "name": "stdout",
          "text": [
            "Confidence Interval (95.00%): (0.31421672179506877, 0.6955908804393457)\n"
          ]
        }
      ],
      "source": [
        "#XGBoost\n",
        "xg_boost = xgb.XGBRegressor()\n",
        "xg_boost.fit(X_train, y_train)\n",
        "\n",
        "scores = cross_val_score(xg_boost, X_train, y_train, cv=10, scoring='neg_mean_squared_error')\n",
        "scores = abs(scores)\n",
        "\n",
        "confidence_interval = calculate_confidence_interval(scores)\n",
        "print(f\"Confidence Interval ({confidence_level * 100:.2f}%): {confidence_interval}\")"
      ]
    },
    {
      "cell_type": "code",
      "execution_count": 25,
      "metadata": {
        "colab": {
          "base_uri": "https://localhost:8080/"
        },
        "id": "aNowbA1pWM47",
        "outputId": "5d5dfc90-00ac-43cc-b585-dd4cdc28a1b6"
      },
      "outputs": [
        {
          "output_type": "stream",
          "name": "stdout",
          "text": [
            "Confidence Interval (95.00%): (0.317762260842165, 0.7029088863524635)\n"
          ]
        }
      ],
      "source": [
        "#XGBoost Tuning\n",
        "\n",
        "param_grid = [{'n_estimators': [100, 200, 300],\n",
        "              'max_depth': [3, 5, 7, 9],\n",
        "              'learning_rate': [0.01, 0.001]}]\n",
        "\n",
        "xg_b_t = xgb.XGBRegressor()\n",
        "grid_cv = GridSearchCV(xg_b_t, param_grid, cv=2, n_jobs=-1)\n",
        "grid_cv.fit(X_train, y_train)\n",
        "\n",
        "best_estimator2 = grid_cv.best_estimator_\n",
        "\n",
        "scores = cross_val_score(best_estimator2, X_train, y_train, cv=10, scoring='neg_mean_squared_error')\n",
        "scores = np.abs(scores)\n",
        "\n",
        "confidence_interval = calculate_confidence_interval(scores)\n",
        "print(f\"Confidence Interval ({confidence_level * 100:.2f}%): {confidence_interval}\")"
      ]
    },
    {
      "cell_type": "code",
      "execution_count": 26,
      "metadata": {
        "colab": {
          "base_uri": "https://localhost:8080/",
          "height": 331
        },
        "id": "hqp218UCvvuQ",
        "outputId": "0b126fbd-9a70-4b5a-dc32-d3857b59384f"
      },
      "outputs": [
        {
          "output_type": "execute_result",
          "data": {
            "text/plain": [
              "                        Description  R-Square    MSE   RMSE    MAE\n",
              "1                   LR - Test Error     0.550  0.386  0.621  0.270\n",
              "2                Ridge - Test Error     0.551  0.386  0.621  0.270\n",
              "3                Lasso - Test Error    -0.002  0.860  0.927  0.480\n",
              "4                   DT - Test Error     0.353  0.555  0.745  0.313\n",
              "5                  SVR - Test Error     0.527  0.406  0.637  0.234\n",
              "6   RF - Before Tuning - Test Error     0.517  0.415  0.644  0.268\n",
              "7    RF - After Tuning - Test error     0.549  0.387  0.622  0.260\n",
              "8  XGB - Before Tuning - Test Error     0.478  0.448  0.669  0.273\n",
              "9   XGB - After Tuning - Test error     0.614  0.331  0.576  0.271"
            ],
            "text/html": [
              "\n",
              "\n",
              "  <div id=\"df-bcb472c7-1ffc-4fd9-8ccf-7c22620ea157\">\n",
              "    <div class=\"colab-df-container\">\n",
              "      <div>\n",
              "<style scoped>\n",
              "    .dataframe tbody tr th:only-of-type {\n",
              "        vertical-align: middle;\n",
              "    }\n",
              "\n",
              "    .dataframe tbody tr th {\n",
              "        vertical-align: top;\n",
              "    }\n",
              "\n",
              "    .dataframe thead th {\n",
              "        text-align: right;\n",
              "    }\n",
              "</style>\n",
              "<table border=\"1\" class=\"dataframe\">\n",
              "  <thead>\n",
              "    <tr style=\"text-align: right;\">\n",
              "      <th></th>\n",
              "      <th>Description</th>\n",
              "      <th>R-Square</th>\n",
              "      <th>MSE</th>\n",
              "      <th>RMSE</th>\n",
              "      <th>MAE</th>\n",
              "    </tr>\n",
              "  </thead>\n",
              "  <tbody>\n",
              "    <tr>\n",
              "      <th>1</th>\n",
              "      <td>LR - Test Error</td>\n",
              "      <td>0.550</td>\n",
              "      <td>0.386</td>\n",
              "      <td>0.621</td>\n",
              "      <td>0.270</td>\n",
              "    </tr>\n",
              "    <tr>\n",
              "      <th>2</th>\n",
              "      <td>Ridge - Test Error</td>\n",
              "      <td>0.551</td>\n",
              "      <td>0.386</td>\n",
              "      <td>0.621</td>\n",
              "      <td>0.270</td>\n",
              "    </tr>\n",
              "    <tr>\n",
              "      <th>3</th>\n",
              "      <td>Lasso - Test Error</td>\n",
              "      <td>-0.002</td>\n",
              "      <td>0.860</td>\n",
              "      <td>0.927</td>\n",
              "      <td>0.480</td>\n",
              "    </tr>\n",
              "    <tr>\n",
              "      <th>4</th>\n",
              "      <td>DT - Test Error</td>\n",
              "      <td>0.353</td>\n",
              "      <td>0.555</td>\n",
              "      <td>0.745</td>\n",
              "      <td>0.313</td>\n",
              "    </tr>\n",
              "    <tr>\n",
              "      <th>5</th>\n",
              "      <td>SVR - Test Error</td>\n",
              "      <td>0.527</td>\n",
              "      <td>0.406</td>\n",
              "      <td>0.637</td>\n",
              "      <td>0.234</td>\n",
              "    </tr>\n",
              "    <tr>\n",
              "      <th>6</th>\n",
              "      <td>RF - Before Tuning - Test Error</td>\n",
              "      <td>0.517</td>\n",
              "      <td>0.415</td>\n",
              "      <td>0.644</td>\n",
              "      <td>0.268</td>\n",
              "    </tr>\n",
              "    <tr>\n",
              "      <th>7</th>\n",
              "      <td>RF - After Tuning - Test error</td>\n",
              "      <td>0.549</td>\n",
              "      <td>0.387</td>\n",
              "      <td>0.622</td>\n",
              "      <td>0.260</td>\n",
              "    </tr>\n",
              "    <tr>\n",
              "      <th>8</th>\n",
              "      <td>XGB - Before Tuning - Test Error</td>\n",
              "      <td>0.478</td>\n",
              "      <td>0.448</td>\n",
              "      <td>0.669</td>\n",
              "      <td>0.273</td>\n",
              "    </tr>\n",
              "    <tr>\n",
              "      <th>9</th>\n",
              "      <td>XGB - After Tuning - Test error</td>\n",
              "      <td>0.614</td>\n",
              "      <td>0.331</td>\n",
              "      <td>0.576</td>\n",
              "      <td>0.271</td>\n",
              "    </tr>\n",
              "  </tbody>\n",
              "</table>\n",
              "</div>\n",
              "      <button class=\"colab-df-convert\" onclick=\"convertToInteractive('df-bcb472c7-1ffc-4fd9-8ccf-7c22620ea157')\"\n",
              "              title=\"Convert this dataframe to an interactive table.\"\n",
              "              style=\"display:none;\">\n",
              "\n",
              "  <svg xmlns=\"http://www.w3.org/2000/svg\" height=\"24px\"viewBox=\"0 0 24 24\"\n",
              "       width=\"24px\">\n",
              "    <path d=\"M0 0h24v24H0V0z\" fill=\"none\"/>\n",
              "    <path d=\"M18.56 5.44l.94 2.06.94-2.06 2.06-.94-2.06-.94-.94-2.06-.94 2.06-2.06.94zm-11 1L8.5 8.5l.94-2.06 2.06-.94-2.06-.94L8.5 2.5l-.94 2.06-2.06.94zm10 10l.94 2.06.94-2.06 2.06-.94-2.06-.94-.94-2.06-.94 2.06-2.06.94z\"/><path d=\"M17.41 7.96l-1.37-1.37c-.4-.4-.92-.59-1.43-.59-.52 0-1.04.2-1.43.59L10.3 9.45l-7.72 7.72c-.78.78-.78 2.05 0 2.83L4 21.41c.39.39.9.59 1.41.59.51 0 1.02-.2 1.41-.59l7.78-7.78 2.81-2.81c.8-.78.8-2.07 0-2.86zM5.41 20L4 18.59l7.72-7.72 1.47 1.35L5.41 20z\"/>\n",
              "  </svg>\n",
              "      </button>\n",
              "\n",
              "\n",
              "\n",
              "    <div id=\"df-7924a927-8a20-4bdd-93f3-9d349d88d7f9\">\n",
              "      <button class=\"colab-df-quickchart\" onclick=\"quickchart('df-7924a927-8a20-4bdd-93f3-9d349d88d7f9')\"\n",
              "              title=\"Suggest charts.\"\n",
              "              style=\"display:none;\">\n",
              "\n",
              "<svg xmlns=\"http://www.w3.org/2000/svg\" height=\"24px\"viewBox=\"0 0 24 24\"\n",
              "     width=\"24px\">\n",
              "    <g>\n",
              "        <path d=\"M19 3H5c-1.1 0-2 .9-2 2v14c0 1.1.9 2 2 2h14c1.1 0 2-.9 2-2V5c0-1.1-.9-2-2-2zM9 17H7v-7h2v7zm4 0h-2V7h2v10zm4 0h-2v-4h2v4z\"/>\n",
              "    </g>\n",
              "</svg>\n",
              "      </button>\n",
              "    </div>\n",
              "\n",
              "<style>\n",
              "  .colab-df-quickchart {\n",
              "    background-color: #E8F0FE;\n",
              "    border: none;\n",
              "    border-radius: 50%;\n",
              "    cursor: pointer;\n",
              "    display: none;\n",
              "    fill: #1967D2;\n",
              "    height: 32px;\n",
              "    padding: 0 0 0 0;\n",
              "    width: 32px;\n",
              "  }\n",
              "\n",
              "  .colab-df-quickchart:hover {\n",
              "    background-color: #E2EBFA;\n",
              "    box-shadow: 0px 1px 2px rgba(60, 64, 67, 0.3), 0px 1px 3px 1px rgba(60, 64, 67, 0.15);\n",
              "    fill: #174EA6;\n",
              "  }\n",
              "\n",
              "  [theme=dark] .colab-df-quickchart {\n",
              "    background-color: #3B4455;\n",
              "    fill: #D2E3FC;\n",
              "  }\n",
              "\n",
              "  [theme=dark] .colab-df-quickchart:hover {\n",
              "    background-color: #434B5C;\n",
              "    box-shadow: 0px 1px 3px 1px rgba(0, 0, 0, 0.15);\n",
              "    filter: drop-shadow(0px 1px 2px rgba(0, 0, 0, 0.3));\n",
              "    fill: #FFFFFF;\n",
              "  }\n",
              "</style>\n",
              "\n",
              "    <script>\n",
              "      async function quickchart(key) {\n",
              "        const containerElement = document.querySelector('#' + key);\n",
              "        const charts = await google.colab.kernel.invokeFunction(\n",
              "            'suggestCharts', [key], {});\n",
              "      }\n",
              "    </script>\n",
              "\n",
              "      <script>\n",
              "\n",
              "function displayQuickchartButton(domScope) {\n",
              "  let quickchartButtonEl =\n",
              "    domScope.querySelector('#df-7924a927-8a20-4bdd-93f3-9d349d88d7f9 button.colab-df-quickchart');\n",
              "  quickchartButtonEl.style.display =\n",
              "    google.colab.kernel.accessAllowed ? 'block' : 'none';\n",
              "}\n",
              "\n",
              "        displayQuickchartButton(document);\n",
              "      </script>\n",
              "      <style>\n",
              "    .colab-df-container {\n",
              "      display:flex;\n",
              "      flex-wrap:wrap;\n",
              "      gap: 12px;\n",
              "    }\n",
              "\n",
              "    .colab-df-convert {\n",
              "      background-color: #E8F0FE;\n",
              "      border: none;\n",
              "      border-radius: 50%;\n",
              "      cursor: pointer;\n",
              "      display: none;\n",
              "      fill: #1967D2;\n",
              "      height: 32px;\n",
              "      padding: 0 0 0 0;\n",
              "      width: 32px;\n",
              "    }\n",
              "\n",
              "    .colab-df-convert:hover {\n",
              "      background-color: #E2EBFA;\n",
              "      box-shadow: 0px 1px 2px rgba(60, 64, 67, 0.3), 0px 1px 3px 1px rgba(60, 64, 67, 0.15);\n",
              "      fill: #174EA6;\n",
              "    }\n",
              "\n",
              "    [theme=dark] .colab-df-convert {\n",
              "      background-color: #3B4455;\n",
              "      fill: #D2E3FC;\n",
              "    }\n",
              "\n",
              "    [theme=dark] .colab-df-convert:hover {\n",
              "      background-color: #434B5C;\n",
              "      box-shadow: 0px 1px 3px 1px rgba(0, 0, 0, 0.15);\n",
              "      filter: drop-shadow(0px 1px 2px rgba(0, 0, 0, 0.3));\n",
              "      fill: #FFFFFF;\n",
              "    }\n",
              "  </style>\n",
              "\n",
              "      <script>\n",
              "        const buttonEl =\n",
              "          document.querySelector('#df-bcb472c7-1ffc-4fd9-8ccf-7c22620ea157 button.colab-df-convert');\n",
              "        buttonEl.style.display =\n",
              "          google.colab.kernel.accessAllowed ? 'block' : 'none';\n",
              "\n",
              "        async function convertToInteractive(key) {\n",
              "          const element = document.querySelector('#df-bcb472c7-1ffc-4fd9-8ccf-7c22620ea157');\n",
              "          const dataTable =\n",
              "            await google.colab.kernel.invokeFunction('convertToInteractive',\n",
              "                                                     [key], {});\n",
              "          if (!dataTable) return;\n",
              "\n",
              "          const docLinkHtml = 'Like what you see? Visit the ' +\n",
              "            '<a target=\"_blank\" href=https://colab.research.google.com/notebooks/data_table.ipynb>data table notebook</a>'\n",
              "            + ' to learn more about interactive tables.';\n",
              "          element.innerHTML = '';\n",
              "          dataTable['output_type'] = 'display_data';\n",
              "          await google.colab.output.renderOutput(dataTable, element);\n",
              "          const docLink = document.createElement('div');\n",
              "          docLink.innerHTML = docLinkHtml;\n",
              "          element.appendChild(docLink);\n",
              "        }\n",
              "      </script>\n",
              "    </div>\n",
              "  </div>\n"
            ]
          },
          "metadata": {},
          "execution_count": 26
        }
      ],
      "source": [
        "score(lr, \"LR - Test Error\", X_test, y_test, 1)\n",
        "score(ridge, \"Ridge - Test Error\", X_test, y_test, 2)\n",
        "score(lasso, \"Lasso - Test Error\", X_test, y_test, 3)\n",
        "score(dtr, \"DT - Test Error\", X_test, y_test, 4)\n",
        "score(svr, \"SVR - Test Error\", X_test, y_test, 5)\n",
        "score(rf_1, \"RF - Before Tuning - Test Error\", X_test, y_test, 6)\n",
        "score(best_estimator1, \"RF - After Tuning - Test error\", X_test, y_test, 7)\n",
        "score(xg_boost, \"XGB - Before Tuning - Test Error\", X_test, y_test, 8)\n",
        "score(best_estimator2, \"XGB - After Tuning - Test error\", X_test, y_test, 9)"
      ]
    },
    {
      "cell_type": "code",
      "execution_count": 27,
      "metadata": {
        "colab": {
          "base_uri": "https://localhost:8080/",
          "height": 248
        },
        "id": "Xud-VIOaWM7S",
        "outputId": "f499facd-8bef-47a9-c8c3-54552fdb4d3a"
      },
      "outputs": [
        {
          "output_type": "execute_result",
          "data": {
            "text/plain": [
              "XGBRegressor(base_score=None, booster=None, callbacks=None,\n",
              "             colsample_bylevel=None, colsample_bynode=None,\n",
              "             colsample_bytree=None, early_stopping_rounds=None,\n",
              "             enable_categorical=False, eval_metric=None, feature_types=None,\n",
              "             gamma=None, gpu_id=None, grow_policy=None, importance_type=None,\n",
              "             interaction_constraints=None, learning_rate=0.01, max_bin=None,\n",
              "             max_cat_threshold=None, max_cat_to_onehot=None,\n",
              "             max_delta_step=None, max_depth=3, max_leaves=None,\n",
              "             min_child_weight=None, missing=nan, monotone_constraints=None,\n",
              "             n_estimators=300, n_jobs=None, num_parallel_tree=None,\n",
              "             predictor=None, random_state=None, ...)"
            ],
            "text/html": [
              "<style>#sk-container-id-1 {color: black;background-color: white;}#sk-container-id-1 pre{padding: 0;}#sk-container-id-1 div.sk-toggleable {background-color: white;}#sk-container-id-1 label.sk-toggleable__label {cursor: pointer;display: block;width: 100%;margin-bottom: 0;padding: 0.3em;box-sizing: border-box;text-align: center;}#sk-container-id-1 label.sk-toggleable__label-arrow:before {content: \"▸\";float: left;margin-right: 0.25em;color: #696969;}#sk-container-id-1 label.sk-toggleable__label-arrow:hover:before {color: black;}#sk-container-id-1 div.sk-estimator:hover label.sk-toggleable__label-arrow:before {color: black;}#sk-container-id-1 div.sk-toggleable__content {max-height: 0;max-width: 0;overflow: hidden;text-align: left;background-color: #f0f8ff;}#sk-container-id-1 div.sk-toggleable__content pre {margin: 0.2em;color: black;border-radius: 0.25em;background-color: #f0f8ff;}#sk-container-id-1 input.sk-toggleable__control:checked~div.sk-toggleable__content {max-height: 200px;max-width: 100%;overflow: auto;}#sk-container-id-1 input.sk-toggleable__control:checked~label.sk-toggleable__label-arrow:before {content: \"▾\";}#sk-container-id-1 div.sk-estimator input.sk-toggleable__control:checked~label.sk-toggleable__label {background-color: #d4ebff;}#sk-container-id-1 div.sk-label input.sk-toggleable__control:checked~label.sk-toggleable__label {background-color: #d4ebff;}#sk-container-id-1 input.sk-hidden--visually {border: 0;clip: rect(1px 1px 1px 1px);clip: rect(1px, 1px, 1px, 1px);height: 1px;margin: -1px;overflow: hidden;padding: 0;position: absolute;width: 1px;}#sk-container-id-1 div.sk-estimator {font-family: monospace;background-color: #f0f8ff;border: 1px dotted black;border-radius: 0.25em;box-sizing: border-box;margin-bottom: 0.5em;}#sk-container-id-1 div.sk-estimator:hover {background-color: #d4ebff;}#sk-container-id-1 div.sk-parallel-item::after {content: \"\";width: 100%;border-bottom: 1px solid gray;flex-grow: 1;}#sk-container-id-1 div.sk-label:hover label.sk-toggleable__label {background-color: #d4ebff;}#sk-container-id-1 div.sk-serial::before {content: \"\";position: absolute;border-left: 1px solid gray;box-sizing: border-box;top: 0;bottom: 0;left: 50%;z-index: 0;}#sk-container-id-1 div.sk-serial {display: flex;flex-direction: column;align-items: center;background-color: white;padding-right: 0.2em;padding-left: 0.2em;position: relative;}#sk-container-id-1 div.sk-item {position: relative;z-index: 1;}#sk-container-id-1 div.sk-parallel {display: flex;align-items: stretch;justify-content: center;background-color: white;position: relative;}#sk-container-id-1 div.sk-item::before, #sk-container-id-1 div.sk-parallel-item::before {content: \"\";position: absolute;border-left: 1px solid gray;box-sizing: border-box;top: 0;bottom: 0;left: 50%;z-index: -1;}#sk-container-id-1 div.sk-parallel-item {display: flex;flex-direction: column;z-index: 1;position: relative;background-color: white;}#sk-container-id-1 div.sk-parallel-item:first-child::after {align-self: flex-end;width: 50%;}#sk-container-id-1 div.sk-parallel-item:last-child::after {align-self: flex-start;width: 50%;}#sk-container-id-1 div.sk-parallel-item:only-child::after {width: 0;}#sk-container-id-1 div.sk-dashed-wrapped {border: 1px dashed gray;margin: 0 0.4em 0.5em 0.4em;box-sizing: border-box;padding-bottom: 0.4em;background-color: white;}#sk-container-id-1 div.sk-label label {font-family: monospace;font-weight: bold;display: inline-block;line-height: 1.2em;}#sk-container-id-1 div.sk-label-container {text-align: center;}#sk-container-id-1 div.sk-container {/* jupyter's `normalize.less` sets `[hidden] { display: none; }` but bootstrap.min.css set `[hidden] { display: none !important; }` so we also need the `!important` here to be able to override the default hidden behavior on the sphinx rendered scikit-learn.org. See: https://github.com/scikit-learn/scikit-learn/issues/21755 */display: inline-block !important;position: relative;}#sk-container-id-1 div.sk-text-repr-fallback {display: none;}</style><div id=\"sk-container-id-1\" class=\"sk-top-container\"><div class=\"sk-text-repr-fallback\"><pre>XGBRegressor(base_score=None, booster=None, callbacks=None,\n",
              "             colsample_bylevel=None, colsample_bynode=None,\n",
              "             colsample_bytree=None, early_stopping_rounds=None,\n",
              "             enable_categorical=False, eval_metric=None, feature_types=None,\n",
              "             gamma=None, gpu_id=None, grow_policy=None, importance_type=None,\n",
              "             interaction_constraints=None, learning_rate=0.01, max_bin=None,\n",
              "             max_cat_threshold=None, max_cat_to_onehot=None,\n",
              "             max_delta_step=None, max_depth=3, max_leaves=None,\n",
              "             min_child_weight=None, missing=nan, monotone_constraints=None,\n",
              "             n_estimators=300, n_jobs=None, num_parallel_tree=None,\n",
              "             predictor=None, random_state=None, ...)</pre><b>In a Jupyter environment, please rerun this cell to show the HTML representation or trust the notebook. <br />On GitHub, the HTML representation is unable to render, please try loading this page with nbviewer.org.</b></div><div class=\"sk-container\" hidden><div class=\"sk-item\"><div class=\"sk-estimator sk-toggleable\"><input class=\"sk-toggleable__control sk-hidden--visually\" id=\"sk-estimator-id-1\" type=\"checkbox\" checked><label for=\"sk-estimator-id-1\" class=\"sk-toggleable__label sk-toggleable__label-arrow\">XGBRegressor</label><div class=\"sk-toggleable__content\"><pre>XGBRegressor(base_score=None, booster=None, callbacks=None,\n",
              "             colsample_bylevel=None, colsample_bynode=None,\n",
              "             colsample_bytree=None, early_stopping_rounds=None,\n",
              "             enable_categorical=False, eval_metric=None, feature_types=None,\n",
              "             gamma=None, gpu_id=None, grow_policy=None, importance_type=None,\n",
              "             interaction_constraints=None, learning_rate=0.01, max_bin=None,\n",
              "             max_cat_threshold=None, max_cat_to_onehot=None,\n",
              "             max_delta_step=None, max_depth=3, max_leaves=None,\n",
              "             min_child_weight=None, missing=nan, monotone_constraints=None,\n",
              "             n_estimators=300, n_jobs=None, num_parallel_tree=None,\n",
              "             predictor=None, random_state=None, ...)</pre></div></div></div></div></div>"
            ]
          },
          "metadata": {},
          "execution_count": 27
        }
      ],
      "source": [
        "#Model with the highest R-Square\n",
        "model_name = [lr, ridge, lasso, dtr, svr, rf_1, best_estimator1, xg_boost, best_estimator2]\n",
        "r_square = score_log['R-Square']\n",
        "\n",
        "zipped = zip(model_name,r_square)\n",
        "\n",
        "best_model = max(zipped, key = lambda i : i[1])\n",
        "model_name = best_model[0]\n",
        "\n",
        "model_name"
      ]
    },
    {
      "cell_type": "markdown",
      "metadata": {
        "id": "nrMYqtVEWlR8"
      },
      "source": [
        "**Feature Importance**"
      ]
    },
    {
      "cell_type": "code",
      "execution_count": 28,
      "metadata": {
        "id": "QRpIOI9zWM9r"
      },
      "outputs": [],
      "source": [
        "# Sampled Shapley - manual coding\n",
        "# def sampled_shapley(model, X, num_samples=1000):\n",
        "\n",
        "#     if isinstance(X, pd.DataFrame):\n",
        "#         X = X.values\n",
        "\n",
        "#     num_instances, num_features = X.shape\n",
        "#     feature_scores = np.zeros(num_features)\n",
        "\n",
        "#     baseline = np.mean(model.predict(X))\n",
        "\n",
        "#     for i in range(num_features):\n",
        "#         # Initialize the cumulative sum of feature importance scores\n",
        "#         cumulative_importance = 0.0\n",
        "\n",
        "#         for j in range(num_samples):\n",
        "#             # Generate a random permutation of the instance indices\n",
        "#             perm = np.random.permutation(num_instances)\n",
        "\n",
        "#             # Copy the original input data\n",
        "#             X_perm = X.copy()\n",
        "\n",
        "#             # Shuffle the values of the current feature according to the permutation\n",
        "#             X_perm[:, i] = X_perm[perm, i]\n",
        "\n",
        "#             # Calculate the prediction for the permuted data\n",
        "#             prediction = np.mean(model.predict(X_perm))\n",
        "\n",
        "#             # Calculate the contribution of the current feature to the prediction\n",
        "#             contribution = abs(prediction - baseline)\n",
        "\n",
        "#             # Accumulate the contribution to the cumulative sum\n",
        "#             cumulative_importance += contribution\n",
        "\n",
        "#         # Calculate the average contribution for the current feature\n",
        "#         feature_scores[i] = cumulative_importance / num_samples\n",
        "\n",
        "#     return feature_scores"
      ]
    },
    {
      "cell_type": "code",
      "source": [
        "# Sampled Shapley - using shap library\n",
        "import shap\n",
        "def model_predict(X):\n",
        "    return model_name.predict(X)\n",
        "\n",
        "explainer = shap.Explainer(model_predict, X)\n",
        "\n",
        "shap_values = explainer.shap_values(X)\n",
        "\n",
        "feature_scores = np.abs(shap_values).mean(axis=0)"
      ],
      "metadata": {
        "colab": {
          "base_uri": "https://localhost:8080/"
        },
        "id": "u_Pis8wQ5PGW",
        "outputId": "460e21ab-b979-41be-f51d-015620477182"
      },
      "execution_count": 32,
      "outputs": [
        {
          "output_type": "stream",
          "name": "stderr",
          "text": [
            "Permutation explainer: 3648it [05:14, 11.41it/s]\n"
          ]
        }
      ]
    },
    {
      "cell_type": "code",
      "execution_count": 33,
      "metadata": {
        "colab": {
          "base_uri": "https://localhost:8080/",
          "height": 144
        },
        "id": "OfQx6Ny5WdfA",
        "outputId": "37db8a40-b165-4c2f-cdd0-47b5ead8cdaa"
      },
      "outputs": [
        {
          "output_type": "execute_result",
          "data": {
            "text/plain": [
              "   spotify_followers  spotify_monthly_listeners  facebook_likes  \\\n",
              "0           0.019754                   0.036529        0.001878   \n",
              "\n",
              "   facebook_talks  twitter_followers  twitter_retweets  \\\n",
              "0        0.002828           0.000821          0.000128   \n",
              "\n",
              "   youtube_monthly_video_views  TikTok_followers  TikTok_Genz_followers  \\\n",
              "0                     0.006626          0.004968               0.004168   \n",
              "\n",
              "   TikTok_avg_engagements_per_post  TikTok_total_views_for_top_n_tracks  \\\n",
              "0                         0.000721                             0.337056   \n",
              "\n",
              "   Instagram_followers  Instagram_Genz_followers  \\\n",
              "0             0.015879                  0.007411   \n",
              "\n",
              "   Instagram_avg_engagements_per_post  Youtube_subscribers  \\\n",
              "0                            0.002889             0.000059   \n",
              "\n",
              "   Youtube_Genz_subscribers  Youtube_avg_engagements_per_post  \\\n",
              "0                  0.016953                           0.00023   \n",
              "\n",
              "   country_code_label  genre_score  \n",
              "0            0.003898     0.012735  "
            ],
            "text/html": [
              "\n",
              "\n",
              "  <div id=\"df-47c33d5f-fd01-454d-b42e-ffa7b221d669\">\n",
              "    <div class=\"colab-df-container\">\n",
              "      <div>\n",
              "<style scoped>\n",
              "    .dataframe tbody tr th:only-of-type {\n",
              "        vertical-align: middle;\n",
              "    }\n",
              "\n",
              "    .dataframe tbody tr th {\n",
              "        vertical-align: top;\n",
              "    }\n",
              "\n",
              "    .dataframe thead th {\n",
              "        text-align: right;\n",
              "    }\n",
              "</style>\n",
              "<table border=\"1\" class=\"dataframe\">\n",
              "  <thead>\n",
              "    <tr style=\"text-align: right;\">\n",
              "      <th></th>\n",
              "      <th>spotify_followers</th>\n",
              "      <th>spotify_monthly_listeners</th>\n",
              "      <th>facebook_likes</th>\n",
              "      <th>facebook_talks</th>\n",
              "      <th>twitter_followers</th>\n",
              "      <th>twitter_retweets</th>\n",
              "      <th>youtube_monthly_video_views</th>\n",
              "      <th>TikTok_followers</th>\n",
              "      <th>TikTok_Genz_followers</th>\n",
              "      <th>TikTok_avg_engagements_per_post</th>\n",
              "      <th>TikTok_total_views_for_top_n_tracks</th>\n",
              "      <th>Instagram_followers</th>\n",
              "      <th>Instagram_Genz_followers</th>\n",
              "      <th>Instagram_avg_engagements_per_post</th>\n",
              "      <th>Youtube_subscribers</th>\n",
              "      <th>Youtube_Genz_subscribers</th>\n",
              "      <th>Youtube_avg_engagements_per_post</th>\n",
              "      <th>country_code_label</th>\n",
              "      <th>genre_score</th>\n",
              "    </tr>\n",
              "  </thead>\n",
              "  <tbody>\n",
              "    <tr>\n",
              "      <th>0</th>\n",
              "      <td>0.019754</td>\n",
              "      <td>0.036529</td>\n",
              "      <td>0.001878</td>\n",
              "      <td>0.002828</td>\n",
              "      <td>0.000821</td>\n",
              "      <td>0.000128</td>\n",
              "      <td>0.006626</td>\n",
              "      <td>0.004968</td>\n",
              "      <td>0.004168</td>\n",
              "      <td>0.000721</td>\n",
              "      <td>0.337056</td>\n",
              "      <td>0.015879</td>\n",
              "      <td>0.007411</td>\n",
              "      <td>0.002889</td>\n",
              "      <td>0.000059</td>\n",
              "      <td>0.016953</td>\n",
              "      <td>0.00023</td>\n",
              "      <td>0.003898</td>\n",
              "      <td>0.012735</td>\n",
              "    </tr>\n",
              "  </tbody>\n",
              "</table>\n",
              "</div>\n",
              "      <button class=\"colab-df-convert\" onclick=\"convertToInteractive('df-47c33d5f-fd01-454d-b42e-ffa7b221d669')\"\n",
              "              title=\"Convert this dataframe to an interactive table.\"\n",
              "              style=\"display:none;\">\n",
              "\n",
              "  <svg xmlns=\"http://www.w3.org/2000/svg\" height=\"24px\"viewBox=\"0 0 24 24\"\n",
              "       width=\"24px\">\n",
              "    <path d=\"M0 0h24v24H0V0z\" fill=\"none\"/>\n",
              "    <path d=\"M18.56 5.44l.94 2.06.94-2.06 2.06-.94-2.06-.94-.94-2.06-.94 2.06-2.06.94zm-11 1L8.5 8.5l.94-2.06 2.06-.94-2.06-.94L8.5 2.5l-.94 2.06-2.06.94zm10 10l.94 2.06.94-2.06 2.06-.94-2.06-.94-.94-2.06-.94 2.06-2.06.94z\"/><path d=\"M17.41 7.96l-1.37-1.37c-.4-.4-.92-.59-1.43-.59-.52 0-1.04.2-1.43.59L10.3 9.45l-7.72 7.72c-.78.78-.78 2.05 0 2.83L4 21.41c.39.39.9.59 1.41.59.51 0 1.02-.2 1.41-.59l7.78-7.78 2.81-2.81c.8-.78.8-2.07 0-2.86zM5.41 20L4 18.59l7.72-7.72 1.47 1.35L5.41 20z\"/>\n",
              "  </svg>\n",
              "      </button>\n",
              "\n",
              "\n",
              "\n",
              "    <div id=\"df-3c57812d-c09c-41b9-a1b1-f218ad8d6528\">\n",
              "      <button class=\"colab-df-quickchart\" onclick=\"quickchart('df-3c57812d-c09c-41b9-a1b1-f218ad8d6528')\"\n",
              "              title=\"Suggest charts.\"\n",
              "              style=\"display:none;\">\n",
              "\n",
              "<svg xmlns=\"http://www.w3.org/2000/svg\" height=\"24px\"viewBox=\"0 0 24 24\"\n",
              "     width=\"24px\">\n",
              "    <g>\n",
              "        <path d=\"M19 3H5c-1.1 0-2 .9-2 2v14c0 1.1.9 2 2 2h14c1.1 0 2-.9 2-2V5c0-1.1-.9-2-2-2zM9 17H7v-7h2v7zm4 0h-2V7h2v10zm4 0h-2v-4h2v4z\"/>\n",
              "    </g>\n",
              "</svg>\n",
              "      </button>\n",
              "    </div>\n",
              "\n",
              "<style>\n",
              "  .colab-df-quickchart {\n",
              "    background-color: #E8F0FE;\n",
              "    border: none;\n",
              "    border-radius: 50%;\n",
              "    cursor: pointer;\n",
              "    display: none;\n",
              "    fill: #1967D2;\n",
              "    height: 32px;\n",
              "    padding: 0 0 0 0;\n",
              "    width: 32px;\n",
              "  }\n",
              "\n",
              "  .colab-df-quickchart:hover {\n",
              "    background-color: #E2EBFA;\n",
              "    box-shadow: 0px 1px 2px rgba(60, 64, 67, 0.3), 0px 1px 3px 1px rgba(60, 64, 67, 0.15);\n",
              "    fill: #174EA6;\n",
              "  }\n",
              "\n",
              "  [theme=dark] .colab-df-quickchart {\n",
              "    background-color: #3B4455;\n",
              "    fill: #D2E3FC;\n",
              "  }\n",
              "\n",
              "  [theme=dark] .colab-df-quickchart:hover {\n",
              "    background-color: #434B5C;\n",
              "    box-shadow: 0px 1px 3px 1px rgba(0, 0, 0, 0.15);\n",
              "    filter: drop-shadow(0px 1px 2px rgba(0, 0, 0, 0.3));\n",
              "    fill: #FFFFFF;\n",
              "  }\n",
              "</style>\n",
              "\n",
              "    <script>\n",
              "      async function quickchart(key) {\n",
              "        const containerElement = document.querySelector('#' + key);\n",
              "        const charts = await google.colab.kernel.invokeFunction(\n",
              "            'suggestCharts', [key], {});\n",
              "      }\n",
              "    </script>\n",
              "\n",
              "      <script>\n",
              "\n",
              "function displayQuickchartButton(domScope) {\n",
              "  let quickchartButtonEl =\n",
              "    domScope.querySelector('#df-3c57812d-c09c-41b9-a1b1-f218ad8d6528 button.colab-df-quickchart');\n",
              "  quickchartButtonEl.style.display =\n",
              "    google.colab.kernel.accessAllowed ? 'block' : 'none';\n",
              "}\n",
              "\n",
              "        displayQuickchartButton(document);\n",
              "      </script>\n",
              "      <style>\n",
              "    .colab-df-container {\n",
              "      display:flex;\n",
              "      flex-wrap:wrap;\n",
              "      gap: 12px;\n",
              "    }\n",
              "\n",
              "    .colab-df-convert {\n",
              "      background-color: #E8F0FE;\n",
              "      border: none;\n",
              "      border-radius: 50%;\n",
              "      cursor: pointer;\n",
              "      display: none;\n",
              "      fill: #1967D2;\n",
              "      height: 32px;\n",
              "      padding: 0 0 0 0;\n",
              "      width: 32px;\n",
              "    }\n",
              "\n",
              "    .colab-df-convert:hover {\n",
              "      background-color: #E2EBFA;\n",
              "      box-shadow: 0px 1px 2px rgba(60, 64, 67, 0.3), 0px 1px 3px 1px rgba(60, 64, 67, 0.15);\n",
              "      fill: #174EA6;\n",
              "    }\n",
              "\n",
              "    [theme=dark] .colab-df-convert {\n",
              "      background-color: #3B4455;\n",
              "      fill: #D2E3FC;\n",
              "    }\n",
              "\n",
              "    [theme=dark] .colab-df-convert:hover {\n",
              "      background-color: #434B5C;\n",
              "      box-shadow: 0px 1px 3px 1px rgba(0, 0, 0, 0.15);\n",
              "      filter: drop-shadow(0px 1px 2px rgba(0, 0, 0, 0.3));\n",
              "      fill: #FFFFFF;\n",
              "    }\n",
              "  </style>\n",
              "\n",
              "      <script>\n",
              "        const buttonEl =\n",
              "          document.querySelector('#df-47c33d5f-fd01-454d-b42e-ffa7b221d669 button.colab-df-convert');\n",
              "        buttonEl.style.display =\n",
              "          google.colab.kernel.accessAllowed ? 'block' : 'none';\n",
              "\n",
              "        async function convertToInteractive(key) {\n",
              "          const element = document.querySelector('#df-47c33d5f-fd01-454d-b42e-ffa7b221d669');\n",
              "          const dataTable =\n",
              "            await google.colab.kernel.invokeFunction('convertToInteractive',\n",
              "                                                     [key], {});\n",
              "          if (!dataTable) return;\n",
              "\n",
              "          const docLinkHtml = 'Like what you see? Visit the ' +\n",
              "            '<a target=\"_blank\" href=https://colab.research.google.com/notebooks/data_table.ipynb>data table notebook</a>'\n",
              "            + ' to learn more about interactive tables.';\n",
              "          element.innerHTML = '';\n",
              "          dataTable['output_type'] = 'display_data';\n",
              "          await google.colab.output.renderOutput(dataTable, element);\n",
              "          const docLink = document.createElement('div');\n",
              "          docLink.innerHTML = docLinkHtml;\n",
              "          element.appendChild(docLink);\n",
              "        }\n",
              "      </script>\n",
              "    </div>\n",
              "  </div>\n"
            ]
          },
          "metadata": {},
          "execution_count": 33
        }
      ],
      "source": [
        "# feature_scores = sampled_shapley(model_name, X_test, num_samples=1000)\n",
        "\n",
        "feature_imp = pd.DataFrame([feature_scores], columns = X.columns)\n",
        "\n",
        "feature_imp = feature_imp.reset_index(drop=True)\n",
        "\n",
        "feature_imp"
      ]
    },
    {
      "cell_type": "code",
      "execution_count": 34,
      "metadata": {
        "colab": {
          "base_uri": "https://localhost:8080/"
        },
        "id": "DPeLzllIWdiJ",
        "outputId": "8dfd5800-1f1e-4f85-c32d-1703d63c88b5"
      },
      "outputs": [
        {
          "output_type": "stream",
          "name": "stderr",
          "text": [
            "100%|██████████| 1/1 [00:00<00:00, 3625.15it/s]"
          ]
        },
        {
          "output_type": "stream",
          "name": "stdout",
          "text": [
            "Data moved to BigQuery successfully!\n"
          ]
        },
        {
          "output_type": "stream",
          "name": "stderr",
          "text": [
            "\n"
          ]
        }
      ],
      "source": [
        "# Define your BigQuery project ID and credentials\n",
        "project_id = 'tech-cali-b2c'\n",
        "credentials = service_account.Credentials.from_service_account_file(r'C:\\Users\\AkruthiSrikanth\\Downloads\\tech-cali-b2c-72b3e690e309-Compute-Engine.json')\n",
        "\n",
        "# Define the BigQuery table name and dataset ID\n",
        "dataset_id = 'CE_ML_Layer'\n",
        "table_name = 'Feature_Importance'\n",
        "\n",
        "# Write the dataframe to BigQuery\n",
        "pandas_gbq.to_gbq(feature_imp, f'{dataset_id}.{table_name}', project_id=project_id, if_exists='replace', credentials=credentials, progress_bar=True)\n",
        "\n",
        "print('Data moved to BigQuery successfully!')"
      ]
    }
  ],
  "metadata": {
    "colab": {
      "provenance": []
    },
    "kernelspec": {
      "display_name": "Python 3 (ipykernel)",
      "language": "python",
      "name": "python3"
    },
    "language_info": {
      "codemirror_mode": {
        "name": "ipython",
        "version": 3
      },
      "file_extension": ".py",
      "mimetype": "text/x-python",
      "name": "python",
      "nbconvert_exporter": "python",
      "pygments_lexer": "ipython3",
      "version": "3.9.13"
    }
  },
  "nbformat": 4,
  "nbformat_minor": 0
}