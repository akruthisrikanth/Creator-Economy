{
 "cells": [
  {
   "cell_type": "code",
   "execution_count": 25,
   "metadata": {
    "id": "ali148i0Q3B4"
   },
   "outputs": [],
   "source": [
    "from sklearn.feature_extraction.text import TfidfVectorizer\n",
    "from sklearn.decomposition import LatentDirichletAllocation\n",
    "from gensim import corpora, models\n",
    "from sklearn.preprocessing import StandardScaler\n",
    "from sklearn.model_selection import train_test_split, cross_val_score, GridSearchCV\n",
    "import numpy as np\n",
    "from sklearn.metrics import mean_squared_error, r2_score, mean_absolute_error\n",
    "from sklearn.linear_model import LinearRegression\n",
    "from sklearn.tree import DecisionTreeRegressor\n",
    "from sklearn.ensemble import RandomForestRegressor\n",
    "import xgboost as xgb\n",
    "import numpy as np\n",
    "import pandas as pd\n",
    "from google.oauth2 import service_account\n",
    "import pandas_gbq\n",
    "from google.cloud import bigquery"
   ]
  },
  {
   "cell_type": "code",
   "execution_count": 26,
   "metadata": {
    "id": "4yWI3vMtW-ai"
   },
   "outputs": [],
   "source": [
    "# Create a BigQuery client\n",
    "client = bigquery.Client.from_service_account_json(r'C:\\Users\\AkruthiSrikanth\\Downloads\\tech-cali-b2c-72b3e690e309-Compute-Engine.json')\n",
    "\n",
    "# Define your BigQuery table details\n",
    "project_id = 'tech-cali-b2c'\n",
    "dataset_id = 'CE_Analytics_Layer'\n",
    "table_id = 'Creator_Social_Profile'\n",
    "\n",
    "# Create a reference to the BigQuery table\n",
    "table_ref = client.dataset(dataset_id).table(table_id)\n",
    "\n",
    "# Retrieve the data from BigQuery into a DataFrame\n",
    "df_mod = client.query(f\"SELECT * FROM `{project_id}.{dataset_id}.{table_id}`\").to_dataframe()"
   ]
  },
  {
   "cell_type": "code",
   "execution_count": 27,
   "metadata": {
    "id": "fVxid_GrhxiX"
   },
   "outputs": [],
   "source": [
    "df = df_mod.drop_duplicates(subset=['artist_id'], keep='first')\n",
    "df = df[df['artist_id'] != \"\"]"
   ]
  },
  {
   "cell_type": "code",
   "execution_count": 28,
   "metadata": {
    "id": "p9eXvjZNh3N7"
   },
   "outputs": [],
   "source": [
    "df.iloc[:,3:] = df.iloc[:,3:].fillna('').replace('',0)"
   ]
  },
  {
   "cell_type": "code",
   "execution_count": 29,
   "metadata": {
    "id": "incpJEFah6Sl"
   },
   "outputs": [],
   "source": [
    "cols = ['Creator_ID', 'name', 'country_code', 'genres', 'artist_id']\n",
    "columns_select = list(df.drop(cols, axis=1).columns)\n",
    "for col in columns_select:\n",
    "    df[col] = df[col].astype('float')"
   ]
  },
  {
   "cell_type": "code",
   "execution_count": 30,
   "metadata": {
    "id": "kKskSu5fVueB"
   },
   "outputs": [],
   "source": [
    "df_fi = df.copy()"
   ]
  },
  {
   "cell_type": "code",
   "execution_count": 31,
   "metadata": {
    "id": "GfEDSyVoVvyx"
   },
   "outputs": [],
   "source": [
    "# Topic Modeling Code: Genre_Score (Topic distribution)\n",
    "def get_genre_score(topic_distribution):\n",
    "    most_likely_word = topic_distribution.argmax()\n",
    "    genre_score = lda.components_[most_likely_word][0]\n",
    "    return genre_score\n",
    "\n",
    "# Create a TF-IDF vectorizer : Finds importance of the term\n",
    "vectorizer = TfidfVectorizer(stop_words=\"english\")\n",
    "\n",
    "X = vectorizer.fit_transform(df_fi[\"genres\"])\n",
    "\n",
    "lda = LatentDirichletAllocation(n_components=10, random_state=0)\n",
    "\n",
    "lda.fit(X)\n",
    "\n",
    "topic_distributions = lda.transform(X)\n",
    "\n",
    "major_genres = []\n",
    "for i in range(len(df_fi)):\n",
    "    topic_distribution = topic_distributions[i]\n",
    "    major_genre = get_genre_score(topic_distribution)\n",
    "    major_genres.append(major_genre)\n",
    "\n",
    "# for i in range(len(data)):\n",
    "#   print('Document: ',i, major_genres[i])\n",
    "\n",
    "df_fi['genre_score'] = major_genres"
   ]
  },
  {
   "cell_type": "code",
   "execution_count": 32,
   "metadata": {
    "colab": {
     "base_uri": "https://localhost:8080/"
    },
    "executionInfo": {
     "elapsed": 672,
     "status": "ok",
     "timestamp": 1689357154024,
     "user": {
      "displayName": "Akruthi Srikanth (LatentView)",
      "userId": "04879770549239053900"
     },
     "user_tz": 420
    },
    "id": "M3KMF60eVv1R",
    "outputId": "755467f6-3530-4c57-8cd3-b5a9e8ac8213"
   },
   "outputs": [],
   "source": [
    "# Topic Modeling (Major Genre Label):\n",
    "genres_list = [genres.split(', ') for genres in df_fi['genres']]\n",
    "dictionary = corpora.Dictionary(genres_list)\n",
    "corpus = [dictionary.doc2bow(genres) for genres in genres_list]\n",
    "\n",
    "num_topics = 1  # Number of topics you want to extract (in this case, major genre)\n",
    "lda_model = models.LdaModel(corpus, num_topics=num_topics, id2word=dictionary)\n",
    "\n",
    "# Extract major genre for each row\n",
    "major_genres = []\n",
    "for genres in genres_list:\n",
    "    genre_counts = {}\n",
    "    for genre in genres:\n",
    "      genre_counts[genre] = genre_counts.get(genre, 0) + 1\n",
    "    major_genre = max(genre_counts, key=genre_counts.get)\n",
    "    major_genres.append(major_genre)\n",
    "\n",
    "df_fi['major_genre'] = major_genres"
   ]
  },
  {
   "cell_type": "markdown",
   "metadata": {
    "id": "6elCBlRFV4AH"
   },
   "source": [
    "**Data Preprocessing**"
   ]
  },
  {
   "cell_type": "code",
   "execution_count": 33,
   "metadata": {
    "id": "-IAapG9bVv3x"
   },
   "outputs": [],
   "source": [
    "df_rf = df_fi.drop(['Creator_ID', 'name', 'country_code', 'genres', 'major_genre', 'artist_id', 'youtube_daily_video_views','youtube_channel_views',\n",
    "           'TikTok_Genz_followers_percentage','Instagram_Genz_followers_percentage','TikTok_number_of_top_tracks',\n",
    "           'TikTok_avg_creations_for_top_n_tracks','TikTok_avg_views_for_top_n_tracks', 'Youtube_Genz_subscribers_percentage'], axis=1)\n",
    "# df_rf = df_new.drop(df_new.filter(regex='_z_score|_z_score_label|_zscore'), axis=1)\n",
    "\n",
    "\n",
    "\n",
    "df_filled = df_rf.fillna(df_rf.median())"
   ]
  },
  {
   "cell_type": "code",
   "execution_count": 34,
   "metadata": {},
   "outputs": [
    {
     "data": {
      "text/plain": [
       "['spotify_followers',\n",
       " 'spotify_monthly_listeners',\n",
       " 'facebook_likes',\n",
       " 'facebook_talks',\n",
       " 'twitter_followers',\n",
       " 'twitter_retweets',\n",
       " 'youtube_monthly_video_views',\n",
       " 'TikTok_followers',\n",
       " 'TikTok_Genz_followers',\n",
       " 'TikTok_avg_engagements_per_post',\n",
       " 'TikTok_total_creations_for_top_n_tracks',\n",
       " 'TikTok_total_views_for_top_n_tracks',\n",
       " 'Instagram_followers',\n",
       " 'Instagram_Genz_followers',\n",
       " 'Instagram_avg_engagements_per_post',\n",
       " 'Youtube_subscribers',\n",
       " 'Youtube_Genz_subscribers',\n",
       " 'Youtube_avg_engagements_per_post',\n",
       " 'genre_score']"
      ]
     },
     "execution_count": 34,
     "metadata": {},
     "output_type": "execute_result"
    }
   ],
   "source": [
    "df_filled.columns.tolist()"
   ]
  },
  {
   "cell_type": "markdown",
   "metadata": {
    "id": "fO6yCIGZV-ki"
   },
   "source": [
    "**Standard Scaling**"
   ]
  },
  {
   "cell_type": "code",
   "execution_count": 35,
   "metadata": {
    "id": "6k1XgbyeVv6Z"
   },
   "outputs": [],
   "source": [
    "scaler = StandardScaler()\n",
    "\n",
    "scaler.fit(df_filled)\n",
    "\n",
    "scaled_data = scaler.transform(df_filled)\n",
    "\n",
    "column_names = scaler.get_feature_names_out()\n",
    "\n",
    "scaled_df = pd.DataFrame(scaled_data, columns=column_names)"
   ]
  },
  {
   "cell_type": "markdown",
   "metadata": {
    "id": "4WsHU4AqWCl4"
   },
   "source": [
    "**Train Test Split**"
   ]
  },
  {
   "cell_type": "code",
   "execution_count": 36,
   "metadata": {
    "colab": {
     "base_uri": "https://localhost:8080/"
    },
    "executionInfo": {
     "elapsed": 9,
     "status": "ok",
     "timestamp": 1689357155059,
     "user": {
      "displayName": "Akruthi Srikanth (LatentView)",
      "userId": "04879770549239053900"
     },
     "user_tz": 420
    },
    "id": "3OsZxQ7mVv9A",
    "outputId": "606f99c3-2201-460f-a5d3-ea5a13df969b"
   },
   "outputs": [
    {
     "name": "stdout",
     "output_type": "stream",
     "text": [
      "Training set size: (2917, 18)\n",
      "Testing set size: (730, 18)\n"
     ]
    }
   ],
   "source": [
    "# Separate features and target variable\n",
    "X = scaled_df.drop('TikTok_total_creations_for_top_n_tracks', axis=1)\n",
    "y = scaled_df['TikTok_total_creations_for_top_n_tracks']\n",
    "\n",
    "# Train and test split\n",
    "\n",
    "X_train, X_test, y_train, y_test = train_test_split(X, y, test_size=0.2, random_state=123)\n",
    "print(f\"Training set size: {X_train.shape}\")\n",
    "print(f\"Testing set size: {X_test.shape}\")"
   ]
  },
  {
   "cell_type": "markdown",
   "metadata": {
    "id": "gQZYX2MmWHIU"
   },
   "source": [
    "**Model Building and Hyperparameter Tuning**"
   ]
  },
  {
   "cell_type": "code",
   "execution_count": 37,
   "metadata": {
    "id": "9A8sNBWfVv_f"
   },
   "outputs": [],
   "source": [
    "# Function to calculate R-Square and RMSE\n",
    "score_log = pd.DataFrame()\n",
    "def score(model, name , x_test, y_test, position):\n",
    "    y_pred = model.predict(x_test)\n",
    "    score_log.loc[position, \"Description\"] = name\n",
    "    score_log.loc[position, \"R-Square\"] = round(r2_score(y_test, y_pred), 3)\n",
    "    score_log.loc[position,\"MSE\"] = round(mean_squared_error(y_test, y_pred), 3)\n",
    "    score_log.loc[position, \"RMSE\"] = round(np.sqrt(mean_squared_error(y_test, y_pred)), 3)\n",
    "    score_log.loc[position, \"MAE\"] = round(mean_absolute_error(y_test, y_pred), 3)\n",
    "    return score_log"
   ]
  },
  {
   "cell_type": "code",
   "execution_count": 38,
   "metadata": {
    "colab": {
     "base_uri": "https://localhost:8080/",
     "height": 80
    },
    "executionInfo": {
     "elapsed": 7,
     "status": "ok",
     "timestamp": 1689357155060,
     "user": {
      "displayName": "Akruthi Srikanth (LatentView)",
      "userId": "04879770549239053900"
     },
     "user_tz": 420
    },
    "id": "9o3yWwKlVwCE",
    "outputId": "c5d58b97-dc0f-48bb-d8ac-f51332d3fba8"
   },
   "outputs": [
    {
     "data": {
      "text/html": [
       "<div>\n",
       "<style scoped>\n",
       "    .dataframe tbody tr th:only-of-type {\n",
       "        vertical-align: middle;\n",
       "    }\n",
       "\n",
       "    .dataframe tbody tr th {\n",
       "        vertical-align: top;\n",
       "    }\n",
       "\n",
       "    .dataframe thead th {\n",
       "        text-align: right;\n",
       "    }\n",
       "</style>\n",
       "<table border=\"1\" class=\"dataframe\">\n",
       "  <thead>\n",
       "    <tr style=\"text-align: right;\">\n",
       "      <th></th>\n",
       "      <th>Description</th>\n",
       "      <th>R-Square</th>\n",
       "      <th>MSE</th>\n",
       "      <th>RMSE</th>\n",
       "      <th>MAE</th>\n",
       "    </tr>\n",
       "  </thead>\n",
       "  <tbody>\n",
       "    <tr>\n",
       "      <th>1</th>\n",
       "      <td>LR - Test Error</td>\n",
       "      <td>0.554</td>\n",
       "      <td>0.383</td>\n",
       "      <td>0.619</td>\n",
       "      <td>0.267</td>\n",
       "    </tr>\n",
       "  </tbody>\n",
       "</table>\n",
       "</div>"
      ],
      "text/plain": [
       "       Description  R-Square    MSE   RMSE    MAE\n",
       "1  LR - Test Error     0.554  0.383  0.619  0.267"
      ]
     },
     "execution_count": 38,
     "metadata": {},
     "output_type": "execute_result"
    }
   ],
   "source": [
    "# Linear Regression\n",
    "lr = LinearRegression()\n",
    "\n",
    "scores = cross_val_score(lr, X_train, y_train, cv=10, scoring='neg_mean_squared_error')\n",
    "scores = abs(scores)\n",
    "\n",
    "lr.fit(X_train, y_train)\n",
    "\n",
    "# score(lr, \"LR - Before Tuning - Train Error\", X_train, y_train, 1)\n",
    "score(lr, \"LR - Test Error\", X_test, y_test, 1)"
   ]
  },
  {
   "cell_type": "code",
   "execution_count": 39,
   "metadata": {
    "colab": {
     "base_uri": "https://localhost:8080/",
     "height": 112
    },
    "executionInfo": {
     "elapsed": 6,
     "status": "ok",
     "timestamp": 1689357155060,
     "user": {
      "displayName": "Akruthi Srikanth (LatentView)",
      "userId": "04879770549239053900"
     },
     "user_tz": 420
    },
    "id": "3cKIJoqkVwEK",
    "outputId": "97a80ab3-951f-434d-c1cb-3948d7d441c4"
   },
   "outputs": [
    {
     "data": {
      "text/html": [
       "<div>\n",
       "<style scoped>\n",
       "    .dataframe tbody tr th:only-of-type {\n",
       "        vertical-align: middle;\n",
       "    }\n",
       "\n",
       "    .dataframe tbody tr th {\n",
       "        vertical-align: top;\n",
       "    }\n",
       "\n",
       "    .dataframe thead th {\n",
       "        text-align: right;\n",
       "    }\n",
       "</style>\n",
       "<table border=\"1\" class=\"dataframe\">\n",
       "  <thead>\n",
       "    <tr style=\"text-align: right;\">\n",
       "      <th></th>\n",
       "      <th>Description</th>\n",
       "      <th>R-Square</th>\n",
       "      <th>MSE</th>\n",
       "      <th>RMSE</th>\n",
       "      <th>MAE</th>\n",
       "    </tr>\n",
       "  </thead>\n",
       "  <tbody>\n",
       "    <tr>\n",
       "      <th>1</th>\n",
       "      <td>LR - Test Error</td>\n",
       "      <td>0.554</td>\n",
       "      <td>0.383</td>\n",
       "      <td>0.619</td>\n",
       "      <td>0.267</td>\n",
       "    </tr>\n",
       "    <tr>\n",
       "      <th>2</th>\n",
       "      <td>DT - Test Error</td>\n",
       "      <td>0.301</td>\n",
       "      <td>0.600</td>\n",
       "      <td>0.775</td>\n",
       "      <td>0.311</td>\n",
       "    </tr>\n",
       "  </tbody>\n",
       "</table>\n",
       "</div>"
      ],
      "text/plain": [
       "       Description  R-Square    MSE   RMSE    MAE\n",
       "1  LR - Test Error     0.554  0.383  0.619  0.267\n",
       "2  DT - Test Error     0.301  0.600  0.775  0.311"
      ]
     },
     "execution_count": 39,
     "metadata": {},
     "output_type": "execute_result"
    }
   ],
   "source": [
    "dtr = DecisionTreeRegressor()\n",
    "dtr.fit(X_train, y_train)\n",
    "\n",
    "# score(dtr, \"DT - Before Tuning - Train Error\", X_train, y_train, 3)\n",
    "score(dtr, \"DT - Test Error\", X_test, y_test, 2)"
   ]
  },
  {
   "cell_type": "code",
   "execution_count": 40,
   "metadata": {
    "colab": {
     "base_uri": "https://localhost:8080/",
     "height": 143
    },
    "executionInfo": {
     "elapsed": 46964,
     "status": "ok",
     "timestamp": 1689357202019,
     "user": {
      "displayName": "Akruthi Srikanth (LatentView)",
      "userId": "04879770549239053900"
     },
     "user_tz": 420
    },
    "id": "12jvp2i3WMwq",
    "outputId": "1fe80ce1-a3ea-400f-9aa7-c796eda3e6e0"
   },
   "outputs": [
    {
     "data": {
      "text/html": [
       "<div>\n",
       "<style scoped>\n",
       "    .dataframe tbody tr th:only-of-type {\n",
       "        vertical-align: middle;\n",
       "    }\n",
       "\n",
       "    .dataframe tbody tr th {\n",
       "        vertical-align: top;\n",
       "    }\n",
       "\n",
       "    .dataframe thead th {\n",
       "        text-align: right;\n",
       "    }\n",
       "</style>\n",
       "<table border=\"1\" class=\"dataframe\">\n",
       "  <thead>\n",
       "    <tr style=\"text-align: right;\">\n",
       "      <th></th>\n",
       "      <th>Description</th>\n",
       "      <th>R-Square</th>\n",
       "      <th>MSE</th>\n",
       "      <th>RMSE</th>\n",
       "      <th>MAE</th>\n",
       "    </tr>\n",
       "  </thead>\n",
       "  <tbody>\n",
       "    <tr>\n",
       "      <th>1</th>\n",
       "      <td>LR - Test Error</td>\n",
       "      <td>0.554</td>\n",
       "      <td>0.383</td>\n",
       "      <td>0.619</td>\n",
       "      <td>0.267</td>\n",
       "    </tr>\n",
       "    <tr>\n",
       "      <th>2</th>\n",
       "      <td>DT - Test Error</td>\n",
       "      <td>0.301</td>\n",
       "      <td>0.600</td>\n",
       "      <td>0.775</td>\n",
       "      <td>0.311</td>\n",
       "    </tr>\n",
       "    <tr>\n",
       "      <th>3</th>\n",
       "      <td>RF - Before Tuning - Test Error</td>\n",
       "      <td>0.539</td>\n",
       "      <td>0.395</td>\n",
       "      <td>0.629</td>\n",
       "      <td>0.262</td>\n",
       "    </tr>\n",
       "  </tbody>\n",
       "</table>\n",
       "</div>"
      ],
      "text/plain": [
       "                       Description  R-Square    MSE   RMSE    MAE\n",
       "1                  LR - Test Error     0.554  0.383  0.619  0.267\n",
       "2                  DT - Test Error     0.301  0.600  0.775  0.311\n",
       "3  RF - Before Tuning - Test Error     0.539  0.395  0.629  0.262"
      ]
     },
     "execution_count": 40,
     "metadata": {},
     "output_type": "execute_result"
    }
   ],
   "source": [
    "# Random Forest\n",
    "rf_1 = RandomForestRegressor()\n",
    "rf_1.fit(X_train, y_train)\n",
    "\n",
    "scores = cross_val_score(rf_1, X_train, y_train, cv=10, scoring='neg_mean_squared_error')\n",
    "scores = abs(scores)\n",
    "\n",
    "# score(rf_1, \"RF - Before Tuning - Train Error\", X_train, y_train, 3)\n",
    "score(rf_1, \"RF - Before Tuning - Test Error\", X_test, y_test, 3)"
   ]
  },
  {
   "cell_type": "code",
   "execution_count": 41,
   "metadata": {
    "colab": {
     "base_uri": "https://localhost:8080/",
     "height": 174
    },
    "executionInfo": {
     "elapsed": 485365,
     "status": "ok",
     "timestamp": 1689357687380,
     "user": {
      "displayName": "Akruthi Srikanth (LatentView)",
      "userId": "04879770549239053900"
     },
     "user_tz": 420
    },
    "id": "_OBp_ncJWMzj",
    "outputId": "285dd7b7-2c39-4cfd-8763-1e7a834c67c9"
   },
   "outputs": [
    {
     "data": {
      "text/html": [
       "<div>\n",
       "<style scoped>\n",
       "    .dataframe tbody tr th:only-of-type {\n",
       "        vertical-align: middle;\n",
       "    }\n",
       "\n",
       "    .dataframe tbody tr th {\n",
       "        vertical-align: top;\n",
       "    }\n",
       "\n",
       "    .dataframe thead th {\n",
       "        text-align: right;\n",
       "    }\n",
       "</style>\n",
       "<table border=\"1\" class=\"dataframe\">\n",
       "  <thead>\n",
       "    <tr style=\"text-align: right;\">\n",
       "      <th></th>\n",
       "      <th>Description</th>\n",
       "      <th>R-Square</th>\n",
       "      <th>MSE</th>\n",
       "      <th>RMSE</th>\n",
       "      <th>MAE</th>\n",
       "    </tr>\n",
       "  </thead>\n",
       "  <tbody>\n",
       "    <tr>\n",
       "      <th>1</th>\n",
       "      <td>LR - Test Error</td>\n",
       "      <td>0.554</td>\n",
       "      <td>0.383</td>\n",
       "      <td>0.619</td>\n",
       "      <td>0.267</td>\n",
       "    </tr>\n",
       "    <tr>\n",
       "      <th>2</th>\n",
       "      <td>DT - Test Error</td>\n",
       "      <td>0.301</td>\n",
       "      <td>0.600</td>\n",
       "      <td>0.775</td>\n",
       "      <td>0.311</td>\n",
       "    </tr>\n",
       "    <tr>\n",
       "      <th>3</th>\n",
       "      <td>RF - Before Tuning - Test Error</td>\n",
       "      <td>0.539</td>\n",
       "      <td>0.395</td>\n",
       "      <td>0.629</td>\n",
       "      <td>0.262</td>\n",
       "    </tr>\n",
       "    <tr>\n",
       "      <th>4</th>\n",
       "      <td>RF - After Tuning - Test error</td>\n",
       "      <td>0.541</td>\n",
       "      <td>0.394</td>\n",
       "      <td>0.628</td>\n",
       "      <td>0.262</td>\n",
       "    </tr>\n",
       "  </tbody>\n",
       "</table>\n",
       "</div>"
      ],
      "text/plain": [
       "                       Description  R-Square    MSE   RMSE    MAE\n",
       "1                  LR - Test Error     0.554  0.383  0.619  0.267\n",
       "2                  DT - Test Error     0.301  0.600  0.775  0.311\n",
       "3  RF - Before Tuning - Test Error     0.539  0.395  0.629  0.262\n",
       "4   RF - After Tuning - Test error     0.541  0.394  0.628  0.262"
      ]
     },
     "execution_count": 41,
     "metadata": {},
     "output_type": "execute_result"
    }
   ],
   "source": [
    "#Random Forest Tuning\n",
    "param_grid = [{\"n_estimators\": [100, 200, 300, 400, 500],\n",
    "              \"max_depth\": [7, 9, 12, 15],\n",
    "              \"min_samples_split\": [5, 7, 12]}]\n",
    "\n",
    "rf_t = RandomForestRegressor()\n",
    "grid_cv = GridSearchCV(rf_t, param_grid, cv=2, n_jobs=-1)\n",
    "grid_cv.fit(X_train, y_train)\n",
    "\n",
    "best_estimator1 = grid_cv.best_estimator_\n",
    "\n",
    "scores = cross_val_score(best_estimator1, X_train, y_train, cv=10, scoring='neg_mean_squared_error')\n",
    "scores = np.abs(scores)\n",
    "\n",
    "# score(best_estimator1, \"RF - After Tuning - Train error\", X_train, y_train, 5)\n",
    "score(best_estimator1, \"RF - After Tuning - Test error\", X_test, y_test, 4)"
   ]
  },
  {
   "cell_type": "code",
   "execution_count": 42,
   "metadata": {
    "colab": {
     "base_uri": "https://localhost:8080/",
     "height": 206
    },
    "executionInfo": {
     "elapsed": 13157,
     "status": "ok",
     "timestamp": 1689357700534,
     "user": {
      "displayName": "Akruthi Srikanth (LatentView)",
      "userId": "04879770549239053900"
     },
     "user_tz": 420
    },
    "id": "lfEpLhykWM2U",
    "outputId": "be36a734-6b4b-4742-cf8a-79953e76629d"
   },
   "outputs": [
    {
     "data": {
      "text/html": [
       "<div>\n",
       "<style scoped>\n",
       "    .dataframe tbody tr th:only-of-type {\n",
       "        vertical-align: middle;\n",
       "    }\n",
       "\n",
       "    .dataframe tbody tr th {\n",
       "        vertical-align: top;\n",
       "    }\n",
       "\n",
       "    .dataframe thead th {\n",
       "        text-align: right;\n",
       "    }\n",
       "</style>\n",
       "<table border=\"1\" class=\"dataframe\">\n",
       "  <thead>\n",
       "    <tr style=\"text-align: right;\">\n",
       "      <th></th>\n",
       "      <th>Description</th>\n",
       "      <th>R-Square</th>\n",
       "      <th>MSE</th>\n",
       "      <th>RMSE</th>\n",
       "      <th>MAE</th>\n",
       "    </tr>\n",
       "  </thead>\n",
       "  <tbody>\n",
       "    <tr>\n",
       "      <th>1</th>\n",
       "      <td>LR - Test Error</td>\n",
       "      <td>0.554</td>\n",
       "      <td>0.383</td>\n",
       "      <td>0.619</td>\n",
       "      <td>0.267</td>\n",
       "    </tr>\n",
       "    <tr>\n",
       "      <th>2</th>\n",
       "      <td>DT - Test Error</td>\n",
       "      <td>0.301</td>\n",
       "      <td>0.600</td>\n",
       "      <td>0.775</td>\n",
       "      <td>0.311</td>\n",
       "    </tr>\n",
       "    <tr>\n",
       "      <th>3</th>\n",
       "      <td>RF - Before Tuning - Test Error</td>\n",
       "      <td>0.539</td>\n",
       "      <td>0.395</td>\n",
       "      <td>0.629</td>\n",
       "      <td>0.262</td>\n",
       "    </tr>\n",
       "    <tr>\n",
       "      <th>4</th>\n",
       "      <td>RF - After Tuning - Test error</td>\n",
       "      <td>0.541</td>\n",
       "      <td>0.394</td>\n",
       "      <td>0.628</td>\n",
       "      <td>0.262</td>\n",
       "    </tr>\n",
       "    <tr>\n",
       "      <th>5</th>\n",
       "      <td>XGB - Before Tuning - Test Error</td>\n",
       "      <td>0.534</td>\n",
       "      <td>0.400</td>\n",
       "      <td>0.632</td>\n",
       "      <td>0.260</td>\n",
       "    </tr>\n",
       "  </tbody>\n",
       "</table>\n",
       "</div>"
      ],
      "text/plain": [
       "                        Description  R-Square    MSE   RMSE    MAE\n",
       "1                   LR - Test Error     0.554  0.383  0.619  0.267\n",
       "2                   DT - Test Error     0.301  0.600  0.775  0.311\n",
       "3   RF - Before Tuning - Test Error     0.539  0.395  0.629  0.262\n",
       "4    RF - After Tuning - Test error     0.541  0.394  0.628  0.262\n",
       "5  XGB - Before Tuning - Test Error     0.534  0.400  0.632  0.260"
      ]
     },
     "execution_count": 42,
     "metadata": {},
     "output_type": "execute_result"
    }
   ],
   "source": [
    "#XGBoost\n",
    "xg_boost = xgb.XGBRegressor()\n",
    "xg_boost.fit(X_train, y_train)\n",
    "\n",
    "scores = cross_val_score(xg_boost, X_train, y_train, cv=10, scoring='neg_mean_squared_error')\n",
    "scores = abs(scores)\n",
    "\n",
    "# score(xg_boost, \"XGB - Before Tuning - Train Error\", X_train, y_train, 7)\n",
    "score(xg_boost, \"XGB - Before Tuning - Test Error\", X_test, y_test, 5)"
   ]
  },
  {
   "cell_type": "code",
   "execution_count": 43,
   "metadata": {
    "colab": {
     "base_uri": "https://localhost:8080/",
     "height": 237
    },
    "executionInfo": {
     "elapsed": 69356,
     "status": "ok",
     "timestamp": 1689357769888,
     "user": {
      "displayName": "Akruthi Srikanth (LatentView)",
      "userId": "04879770549239053900"
     },
     "user_tz": 420
    },
    "id": "aNowbA1pWM47",
    "outputId": "f338b9b9-57f2-473f-8a1b-a6b179eb34a9"
   },
   "outputs": [
    {
     "data": {
      "text/html": [
       "<div>\n",
       "<style scoped>\n",
       "    .dataframe tbody tr th:only-of-type {\n",
       "        vertical-align: middle;\n",
       "    }\n",
       "\n",
       "    .dataframe tbody tr th {\n",
       "        vertical-align: top;\n",
       "    }\n",
       "\n",
       "    .dataframe thead th {\n",
       "        text-align: right;\n",
       "    }\n",
       "</style>\n",
       "<table border=\"1\" class=\"dataframe\">\n",
       "  <thead>\n",
       "    <tr style=\"text-align: right;\">\n",
       "      <th></th>\n",
       "      <th>Description</th>\n",
       "      <th>R-Square</th>\n",
       "      <th>MSE</th>\n",
       "      <th>RMSE</th>\n",
       "      <th>MAE</th>\n",
       "    </tr>\n",
       "  </thead>\n",
       "  <tbody>\n",
       "    <tr>\n",
       "      <th>1</th>\n",
       "      <td>LR - Test Error</td>\n",
       "      <td>0.554</td>\n",
       "      <td>0.383</td>\n",
       "      <td>0.619</td>\n",
       "      <td>0.267</td>\n",
       "    </tr>\n",
       "    <tr>\n",
       "      <th>2</th>\n",
       "      <td>DT - Test Error</td>\n",
       "      <td>0.301</td>\n",
       "      <td>0.600</td>\n",
       "      <td>0.775</td>\n",
       "      <td>0.311</td>\n",
       "    </tr>\n",
       "    <tr>\n",
       "      <th>3</th>\n",
       "      <td>RF - Before Tuning - Test Error</td>\n",
       "      <td>0.539</td>\n",
       "      <td>0.395</td>\n",
       "      <td>0.629</td>\n",
       "      <td>0.262</td>\n",
       "    </tr>\n",
       "    <tr>\n",
       "      <th>4</th>\n",
       "      <td>RF - After Tuning - Test error</td>\n",
       "      <td>0.541</td>\n",
       "      <td>0.394</td>\n",
       "      <td>0.628</td>\n",
       "      <td>0.262</td>\n",
       "    </tr>\n",
       "    <tr>\n",
       "      <th>5</th>\n",
       "      <td>XGB - Before Tuning - Test Error</td>\n",
       "      <td>0.534</td>\n",
       "      <td>0.400</td>\n",
       "      <td>0.632</td>\n",
       "      <td>0.260</td>\n",
       "    </tr>\n",
       "    <tr>\n",
       "      <th>6</th>\n",
       "      <td>XGB - After Tuning - Test error</td>\n",
       "      <td>0.616</td>\n",
       "      <td>0.329</td>\n",
       "      <td>0.574</td>\n",
       "      <td>0.270</td>\n",
       "    </tr>\n",
       "  </tbody>\n",
       "</table>\n",
       "</div>"
      ],
      "text/plain": [
       "                        Description  R-Square    MSE   RMSE    MAE\n",
       "1                   LR - Test Error     0.554  0.383  0.619  0.267\n",
       "2                   DT - Test Error     0.301  0.600  0.775  0.311\n",
       "3   RF - Before Tuning - Test Error     0.539  0.395  0.629  0.262\n",
       "4    RF - After Tuning - Test error     0.541  0.394  0.628  0.262\n",
       "5  XGB - Before Tuning - Test Error     0.534  0.400  0.632  0.260\n",
       "6   XGB - After Tuning - Test error     0.616  0.329  0.574  0.270"
      ]
     },
     "execution_count": 43,
     "metadata": {},
     "output_type": "execute_result"
    }
   ],
   "source": [
    "#XGBoost Tuning\n",
    "\n",
    "param_grid = [{'n_estimators': [100, 200, 300],\n",
    "              'max_depth': [3, 5, 7, 9],\n",
    "              'learning_rate': [0.01, 0.001]}]\n",
    "\n",
    "xg_b_t = xgb.XGBRegressor()\n",
    "grid_cv = GridSearchCV(xg_b_t, param_grid, cv=2, n_jobs=-1)\n",
    "grid_cv.fit(X_train, y_train)\n",
    "\n",
    "best_estimator2 = grid_cv.best_estimator_\n",
    "\n",
    "scores = cross_val_score(best_estimator2, X_train, y_train, cv=10, scoring='neg_mean_squared_error')\n",
    "scores = np.abs(scores)\n",
    "\n",
    "# score(best_estimator2, \"XGB - After Tuning - Train error\", X_train, y_train, 9)\n",
    "score(best_estimator2, \"XGB - After Tuning - Test error\", X_test, y_test, 6)"
   ]
  },
  {
   "cell_type": "code",
   "execution_count": 44,
   "metadata": {
    "colab": {
     "base_uri": "https://localhost:8080/",
     "height": 74
    },
    "executionInfo": {
     "elapsed": 9,
     "status": "ok",
     "timestamp": 1689357769888,
     "user": {
      "displayName": "Akruthi Srikanth (LatentView)",
      "userId": "04879770549239053900"
     },
     "user_tz": 420
    },
    "id": "Xud-VIOaWM7S",
    "outputId": "09a367db-5a45-4722-8d64-6d18ce29bda5"
   },
   "outputs": [
    {
     "data": {
      "text/plain": [
       "XGBRegressor(base_score=None, booster=None, callbacks=None,\n",
       "             colsample_bylevel=None, colsample_bynode=None,\n",
       "             colsample_bytree=None, early_stopping_rounds=None,\n",
       "             enable_categorical=False, eval_metric=None, feature_types=None,\n",
       "             gamma=None, gpu_id=None, grow_policy=None, importance_type=None,\n",
       "             interaction_constraints=None, learning_rate=0.01, max_bin=None,\n",
       "             max_cat_threshold=None, max_cat_to_onehot=None,\n",
       "             max_delta_step=None, max_depth=3, max_leaves=None,\n",
       "             min_child_weight=None, missing=nan, monotone_constraints=None,\n",
       "             n_estimators=300, n_jobs=None, num_parallel_tree=None,\n",
       "             predictor=None, random_state=None, ...)"
      ]
     },
     "execution_count": 44,
     "metadata": {},
     "output_type": "execute_result"
    }
   ],
   "source": [
    "#Model with the highest R-Square\n",
    "model_name = [lr, dtr, rf_1, best_estimator1, xg_boost, best_estimator2]\n",
    "r_square = score_log['R-Square']\n",
    "\n",
    "zipped = zip(model_name,r_square)\n",
    "\n",
    "best_model = max(zipped, key = lambda i : i[1])\n",
    "model_name = best_model[0]\n",
    "\n",
    "model_name"
   ]
  },
  {
   "cell_type": "markdown",
   "metadata": {
    "id": "nrMYqtVEWlR8"
   },
   "source": [
    "**Feature Importance**"
   ]
  },
  {
   "cell_type": "code",
   "execution_count": 45,
   "metadata": {
    "id": "QRpIOI9zWM9r"
   },
   "outputs": [],
   "source": [
    "def sampled_shapley(model, X, num_samples=1000):\n",
    "\n",
    "    if isinstance(X, pd.DataFrame):\n",
    "        X = X.values\n",
    "\n",
    "    num_instances, num_features = X.shape\n",
    "    feature_scores = np.zeros(num_features)\n",
    "\n",
    "    baseline = np.mean(model.predict(X))\n",
    "\n",
    "    for i in range(num_features):\n",
    "        # Initialize the cumulative sum of feature importance scores\n",
    "        cumulative_importance = 0.0\n",
    "\n",
    "        for j in range(num_samples):\n",
    "            # Generate a random permutation of the instance indices\n",
    "            perm = np.random.permutation(num_instances)\n",
    "\n",
    "            # Copy the original input data\n",
    "            X_perm = X.copy()\n",
    "\n",
    "            # Shuffle the values of the current feature according to the permutation\n",
    "            X_perm[:, i] = X_perm[perm, i]\n",
    "\n",
    "            # Calculate the prediction for the permuted data\n",
    "            prediction = np.mean(model.predict(X_perm))\n",
    "\n",
    "            # Calculate the contribution of the current feature to the prediction\n",
    "            contribution = abs(prediction - baseline)\n",
    "\n",
    "            # Accumulate the contribution to the cumulative sum\n",
    "            cumulative_importance += contribution\n",
    "\n",
    "        # Calculate the average contribution for the current feature\n",
    "        feature_scores[i] = cumulative_importance / num_samples\n",
    "\n",
    "    return feature_scores"
   ]
  },
  {
   "cell_type": "code",
   "execution_count": 46,
   "metadata": {
    "colab": {
     "base_uri": "https://localhost:8080/",
     "height": 1000
    },
    "executionInfo": {
     "elapsed": 17047,
     "status": "ok",
     "timestamp": 1689357786930,
     "user": {
      "displayName": "Akruthi Srikanth (LatentView)",
      "userId": "04879770549239053900"
     },
     "user_tz": 420
    },
    "id": "OfQx6Ny5WdfA",
    "outputId": "b5c46091-1966-4a20-ddc6-a61f8751cb1e"
   },
   "outputs": [
    {
     "data": {
      "text/html": [
       "<div>\n",
       "<style scoped>\n",
       "    .dataframe tbody tr th:only-of-type {\n",
       "        vertical-align: middle;\n",
       "    }\n",
       "\n",
       "    .dataframe tbody tr th {\n",
       "        vertical-align: top;\n",
       "    }\n",
       "\n",
       "    .dataframe thead th {\n",
       "        text-align: right;\n",
       "    }\n",
       "</style>\n",
       "<table border=\"1\" class=\"dataframe\">\n",
       "  <thead>\n",
       "    <tr style=\"text-align: right;\">\n",
       "      <th></th>\n",
       "      <th>spotify_followers</th>\n",
       "      <th>spotify_monthly_listeners</th>\n",
       "      <th>facebook_likes</th>\n",
       "      <th>facebook_talks</th>\n",
       "      <th>twitter_followers</th>\n",
       "      <th>twitter_retweets</th>\n",
       "      <th>youtube_monthly_video_views</th>\n",
       "      <th>TikTok_followers</th>\n",
       "      <th>TikTok_Genz_followers</th>\n",
       "      <th>TikTok_avg_engagements_per_post</th>\n",
       "      <th>TikTok_total_views_for_top_n_tracks</th>\n",
       "      <th>Instagram_followers</th>\n",
       "      <th>Instagram_Genz_followers</th>\n",
       "      <th>Instagram_avg_engagements_per_post</th>\n",
       "      <th>Youtube_subscribers</th>\n",
       "      <th>Youtube_Genz_subscribers</th>\n",
       "      <th>Youtube_avg_engagements_per_post</th>\n",
       "      <th>genre_score</th>\n",
       "    </tr>\n",
       "  </thead>\n",
       "  <tbody>\n",
       "    <tr>\n",
       "      <th>0</th>\n",
       "      <td>0.003291</td>\n",
       "      <td>0.005713</td>\n",
       "      <td>0.002676</td>\n",
       "      <td>0.002047</td>\n",
       "      <td>0.000449</td>\n",
       "      <td>0.000225</td>\n",
       "      <td>0.01175</td>\n",
       "      <td>0.001508</td>\n",
       "      <td>0.001075</td>\n",
       "      <td>0.000052</td>\n",
       "      <td>0.018364</td>\n",
       "      <td>0.003715</td>\n",
       "      <td>0.004022</td>\n",
       "      <td>0.003164</td>\n",
       "      <td>0.0</td>\n",
       "      <td>0.006933</td>\n",
       "      <td>0.000073</td>\n",
       "      <td>0.00119</td>\n",
       "    </tr>\n",
       "  </tbody>\n",
       "</table>\n",
       "</div>"
      ],
      "text/plain": [
       "   spotify_followers  spotify_monthly_listeners  facebook_likes  \\\n",
       "0           0.003291                   0.005713        0.002676   \n",
       "\n",
       "   facebook_talks  twitter_followers  twitter_retweets  \\\n",
       "0        0.002047           0.000449          0.000225   \n",
       "\n",
       "   youtube_monthly_video_views  TikTok_followers  TikTok_Genz_followers  \\\n",
       "0                      0.01175          0.001508               0.001075   \n",
       "\n",
       "   TikTok_avg_engagements_per_post  TikTok_total_views_for_top_n_tracks  \\\n",
       "0                         0.000052                             0.018364   \n",
       "\n",
       "   Instagram_followers  Instagram_Genz_followers  \\\n",
       "0             0.003715                  0.004022   \n",
       "\n",
       "   Instagram_avg_engagements_per_post  Youtube_subscribers  \\\n",
       "0                            0.003164                  0.0   \n",
       "\n",
       "   Youtube_Genz_subscribers  Youtube_avg_engagements_per_post  genre_score  \n",
       "0                  0.006933                          0.000073      0.00119  "
      ]
     },
     "execution_count": 46,
     "metadata": {},
     "output_type": "execute_result"
    }
   ],
   "source": [
    "feature_scores = sampled_shapley(model_name, X_test, num_samples=1000)\n",
    "\n",
    "feature_imp = pd.DataFrame([feature_scores], columns = X.columns)\n",
    "\n",
    "feature_imp = feature_imp.reset_index(drop=True)\n",
    "\n",
    "feature_imp"
   ]
  },
  {
   "cell_type": "code",
   "execution_count": 47,
   "metadata": {
    "colab": {
     "base_uri": "https://localhost:8080/"
    },
    "executionInfo": {
     "elapsed": 6899,
     "status": "ok",
     "timestamp": 1689357793819,
     "user": {
      "displayName": "Akruthi Srikanth (LatentView)",
      "userId": "04879770549239053900"
     },
     "user_tz": 420
    },
    "id": "DPeLzllIWdiJ",
    "outputId": "6fd6a6db-4cba-4081-c40f-5f3fed8ae467"
   },
   "outputs": [
    {
     "name": "stderr",
     "output_type": "stream",
     "text": [
      "100%|████████████████████████████████████████████████████████████████████████████████████████████| 1/1 [00:00<?, ?it/s]"
     ]
    },
    {
     "name": "stdout",
     "output_type": "stream",
     "text": [
      "Data moved to BigQuery successfully!\n"
     ]
    },
    {
     "name": "stderr",
     "output_type": "stream",
     "text": [
      "\n"
     ]
    }
   ],
   "source": [
    "# Define your BigQuery project ID and credentials\n",
    "project_id = 'tech-cali-b2c'\n",
    "credentials = service_account.Credentials.from_service_account_file(r'C:\\Users\\AkruthiSrikanth\\Downloads\\tech-cali-b2c-72b3e690e309-Compute-Engine.json')\n",
    "\n",
    "# Define the BigQuery table name and dataset ID\n",
    "dataset_id = 'CE_ML_Layer'\n",
    "table_name = 'Feature_Importance'\n",
    "\n",
    "# Write the dataframe to BigQuery\n",
    "pandas_gbq.to_gbq(feature_imp, f'{dataset_id}.{table_name}', project_id=project_id, if_exists='replace', credentials=credentials, progress_bar=True)\n",
    "\n",
    "print('Data moved to BigQuery successfully!')"
   ]
  },
  {
   "cell_type": "code",
   "execution_count": null,
   "metadata": {},
   "outputs": [],
   "source": []
  }
 ],
 "metadata": {
  "colab": {
   "authorship_tag": "ABX9TyPAsdtbc2ZByiWAMU4imOf+",
   "mount_file_id": "159y_yj0wZsS5btqnQWYcQ5x9Cmvebcnb",
   "provenance": []
  },
  "kernelspec": {
   "display_name": "Python 3 (ipykernel)",
   "language": "python",
   "name": "python3"
  },
  "language_info": {
   "codemirror_mode": {
    "name": "ipython",
    "version": 3
   },
   "file_extension": ".py",
   "mimetype": "text/x-python",
   "name": "python",
   "nbconvert_exporter": "python",
   "pygments_lexer": "ipython3",
   "version": "3.9.13"
  }
 },
 "nbformat": 4,
 "nbformat_minor": 1
}
