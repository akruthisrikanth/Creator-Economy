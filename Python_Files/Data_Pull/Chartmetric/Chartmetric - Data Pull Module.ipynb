{
 "cells": [
  {
   "cell_type": "code",
   "execution_count": null,
   "metadata": {
    "id": "D7AXW7xJXNby"
   },
   "outputs": [],
   "source": [
    "import requests\n",
    "import numpy as np\n",
    "import pandas as pd\n",
    "\n",
    "import time\n",
    "from json.decoder import JSONDecodeError\n",
    "\n",
    "from google.oauth2 import service_account\n",
    "import pandas_gbq\n",
    "\n",
    "from datetime import date"
   ]
  },
  {
   "cell_type": "code",
   "execution_count": null,
   "metadata": {
    "id": "DVQdF9y6zO56"
   },
   "outputs": [],
   "source": [
    "def get_refresh_token():\n",
    "  parms = {\"refreshtoken\":\"hRv3j2VHiixfpBRRWi5SA6zx9acCAIB1rXY8ZcanU9nETNxj3o52giWbYVUO8hCU\"}\n",
    "  token_url = 'https://api.chartmetric.com/api/token'\n",
    "  token_res = requests.post(token_url, data=parms)\n",
    "  refresh_token = token_res.json()['token']\n",
    "  # print(token_res.json())\n",
    "  return refresh_token"
   ]
  },
  {
   "cell_type": "code",
   "execution_count": null,
   "metadata": {
    "id": "7QZTstodzSYE"
   },
   "outputs": [],
   "source": [
    "def get_artist_data(refresh_token):\n",
    "  for min_range in range(1,201,200): #fetches 200 records, use cm_artist_rank to fetch top 200 artists, change 200 to get more number of records\n",
    "    max_range = min_range + 199\n",
    "    headers= {'Authorization' : 'Bearer '+refresh_token}\n",
    "    url = 'https://api.chartmetric.com/api/artist/cm_artist_rank/list?min='+str(min_range)+'&max='+str(max_range)+'&limit=200'\n",
    "    res = requests.get(url, headers=headers)\n",
    "    time.sleep(1)\n",
    "    if min_range == 1: # put the same min value of for loop here\n",
    "      new_df = pd.DataFrame(res.json()['obj']['data'])\n",
    "    else:\n",
    "      df = pd.DataFrame(res.json()['obj']['data'])\n",
    "      new_df = pd.concat([new_df,df])\n",
    "    time.sleep(1)\n",
    "  return new_df"
   ]
  },
  {
   "cell_type": "code",
   "execution_count": null,
   "metadata": {
    "id": "WZI-mdtzzLF7"
   },
   "outputs": [],
   "source": [
    "refresh_token = get_refresh_token()\n",
    "df = get_artist_data(refresh_token)"
   ]
  },
  {
   "cell_type": "code",
   "execution_count": null,
   "metadata": {
    "id": "HVq7AXJp05ni"
   },
   "outputs": [],
   "source": [
    "def get_age_level_data(age_list, age_bucket):\n",
    "    for data in age_list:\n",
    "      for k,v in data.items():\n",
    "        if v == age_bucket:\n",
    "          return round(float(data['male']) + float(data['female']),2)\n",
    "\n",
    "def get_platform_data(id_list, refresh_token, platform):\n",
    "    stats_result = {'artist_id':[],\n",
    "                     platform+'_followers':[],\n",
    "                     platform+'_Genz_followers_percentage' : [],\n",
    "                     platform+'_avg_likes_per_post':[],\n",
    "                     platform+'_avg_commments_per_post':[]}\n",
    "\n",
    "    for id in id_list:\n",
    "     #print(id)\n",
    "     headers= {'Authorization' : 'Bearer '+refresh_token}\n",
    "     stats_url = 'https://api.chartmetric.com/api/artist/'+id+'/'+platform.lower()+'-audience-stats'\n",
    "     stats_res = requests.get(stats_url, headers=headers)\n",
    "\n",
    "     if platform == 'TikTok':\n",
    "      if stats_res.reason == 'Not Found':\n",
    "        pass\n",
    "      elif len(stats_res.json()['obj']) == 8 and stats_res.json()['obj']['audience_genders_per_age'] != []:\n",
    "        stats_result['artist_id'].append(id)\n",
    "        stats_result[platform+'_followers'].append(stats_res.json()['obj']['followers'])\n",
    "        stats_result[platform+'_Genz_followers_percentage'].append(get_age_level_data(stats_res.json()['obj']['audience_genders_per_age'], '13-17') +\n",
    "                                                          get_age_level_data(stats_res.json()['obj']['audience_genders_per_age'], '18-24'))\n",
    "        stats_result[platform+'_avg_likes_per_post'].append(stats_res.json()['obj']['avg_likes_per_post'])\n",
    "        stats_result[platform+'_avg_commments_per_post'].append(stats_res.json()['obj']['avg_commments_per_post'])\n",
    "\n",
    "     elif platform == 'Instagram':\n",
    "      if stats_res.reason == 'Not Found':\n",
    "        pass\n",
    "      elif stats_res.reason == 'OK' and len(stats_res.json()['obj']) == 13 and stats_res.json()['obj']['audience_genders_per_age'] != []:\n",
    "        stats_result['artist_id'].append(id)\n",
    "        stats_result[platform+'_followers'].append(stats_res.json()['obj']['followers'])\n",
    "        stats_result[platform+'_Genz_followers_percentage'].append(get_age_level_data(stats_res.json()['obj']['audience_genders_per_age'], '13-17') +\n",
    "                                                          get_age_level_data(stats_res.json()['obj']['audience_genders_per_age'], '18-24'))\n",
    "        stats_result[platform+'_avg_likes_per_post'].append(stats_res.json()['obj']['avg_likes_per_post'])\n",
    "        stats_result[platform+'_avg_commments_per_post'].append(stats_res.json()['obj']['avg_commments_per_post'])\n",
    "\n",
    "      #Youtube audience data, object length = 9\n",
    "     elif platform == 'Youtube':\n",
    "      if stats_res.reason == 'Not Found':\n",
    "        pass\n",
    "      elif stats_res.reason == 'OK' and len(stats_res.json()['obj']) == 9 and stats_res.json()['obj']['audience_genders_per_age'] != []:\n",
    "        stats_result['artist_id'].append(id)\n",
    "        stats_result[platform+'_followers'].append(stats_res.json()['obj']['subscribers'])\n",
    "        stats_result[platform+'_Genz_followers_percentage'].append(get_age_level_data(stats_res.json()['obj']['audience_genders_per_age'], '13-17') +\n",
    "                                                          get_age_level_data(stats_res.json()['obj']['audience_genders_per_age'], '18-24'))\n",
    "        stats_result[platform+'_avg_likes_per_post'].append(stats_res.json()['obj']['avg_likes_per_post'])\n",
    "        stats_result[platform+'_avg_commments_per_post'].append(stats_res.json()['obj']['avg_commments_per_post'])\n",
    "\n",
    "    return stats_result\n"
   ]
  },
  {
   "cell_type": "code",
   "execution_count": null,
   "metadata": {
    "id": "2L7OJSOMJdDN"
   },
   "outputs": [],
   "source": [
    "def get_tiktok_creations_data(id_list,refresh_token):# creations data, how many people used the video/audio of the creator\n",
    "  tracks_result = {'artist_id':[],\n",
    "                 'TikTok_number_of_top_tracks':[],\n",
    "                 'TikTok_total_creations_for_top_n_tracks':[],\n",
    "                 'TikTok_total_views_for_top_n_tracks':[]}\n",
    "  for id in id_list:\n",
    "    #print(id)\n",
    "      headers= {'Authorization' : 'Bearer '+refresh_token}\n",
    "      url = 'https://api.chartmetric.com/api/artist/'+id+'/top-tracks/tiktok?limit=30'\n",
    "      res = requests.get(url, headers=headers)\n",
    "      top_tracks = {}\n",
    "      top_views= {}\n",
    "      top_likes={}\n",
    "      top_comments={}\n",
    "      i = 1\n",
    "      tracks_result['artist_id'].append(id)\n",
    "      for track in res.json()['obj']:\n",
    "        if track['posts'] is None or track['views'] is None:\n",
    "          pass\n",
    "        elif len(top_tracks.values()) < 10:\n",
    "          # print(track['name'],track['posts'])\n",
    "          # print(top_tracks)\n",
    "          if track['name'] in top_tracks.keys():\n",
    "            top_tracks[track['name']+str(i)] = track['posts']\n",
    "            top_views[track['name']+str(i)] = track['views']\n",
    "            top_likes[track['name']+str(i)] = track['likes']\n",
    "            top_comments[track['name']+str(i)]= track['comments']\n",
    "            i+=1\n",
    "          else:\n",
    "            top_tracks[track['name']] = track['posts']\n",
    "            top_views[track['name']] = track['views']\n",
    "            top_likes[track['name']] = track['likes']\n",
    "            top_comments[track['name']]= track['comments']\n",
    "\n",
    "      tracks_result['TikTok_number_of_top_tracks'].append(len(top_tracks.values()))\n",
    "      tracks_result['TikTok_total_creations_for_top_n_tracks'].append(sum(top_tracks.values()))\n",
    "      tracks_result['TikTok_total_views_for_top_n_tracks'].append(sum(top_views.values()))\n",
    "\n",
    "  return tracks_result"
   ]
  },
  {
   "cell_type": "code",
   "execution_count": null,
   "metadata": {
    "id": "X1Av0RoIzgyr"
   },
   "outputs": [],
   "source": [
    "def tiktok_call(artist_df, i, refresh_token, final_tiktok_df):\n",
    "  result = get_platform_data(list(artist_df['chartmetric_artist_id'].iloc[i:i+1].astype('str')), refresh_token, 'TikTok')\n",
    "  tiktok_df = pd.DataFrame(result)\n",
    "  tiktok_df['TikTok_Genz_followers'] = round((tiktok_df['TikTok_Genz_followers_percentage'] * (tiktok_df['TikTok_followers']/100)),2)\n",
    "  time.sleep(1)\n",
    "  result2 = get_tiktok_creations_data(list(artist_df['chartmetric_artist_id'].iloc[i:i+1].astype('str')), refresh_token)\n",
    "  track_df = pd.DataFrame(result2)\n",
    "  track_df['TikTok_avg_creations_for_top_n_tracks'] = round(track_df['TikTok_total_creations_for_top_n_tracks']/track_df['TikTok_number_of_top_tracks'])\n",
    "  track_df['TikTok_avg_views_for_top_n_tracks'] = round(track_df['TikTok_total_views_for_top_n_tracks']/track_df['TikTok_number_of_top_tracks'])\n",
    "  track_df = pd.merge(track_df,artist_df[['chartmetric_artist_id','name']].astype('str'),left_on=['artist_id'],right_on=['chartmetric_artist_id'],how='left')\n",
    "  merge_tiktok_df = pd.merge(tiktok_df,track_df,on=['artist_id'],how='right')\n",
    "  merge_tiktok_df['TikTok_avg_engagements_per_post'] = merge_tiktok_df['TikTok_avg_likes_per_post'] + merge_tiktok_df['TikTok_avg_commments_per_post']\n",
    "  merge_tiktok_df = merge_tiktok_df[['artist_id','name','TikTok_followers','TikTok_Genz_followers','TikTok_Genz_followers_percentage',\n",
    "                                     'TikTok_avg_engagements_per_post','TikTok_number_of_top_tracks',\n",
    "                                     'TikTok_total_creations_for_top_n_tracks','TikTok_avg_creations_for_top_n_tracks',\n",
    "                                     'TikTok_total_views_for_top_n_tracks','TikTok_avg_views_for_top_n_tracks']]\n",
    "\n",
    "  merge_tiktok_df.fillna(\"\",inplace=True)\n",
    "  final_tiktok_df = pd.concat([final_tiktok_df,merge_tiktok_df], axis=0)\n",
    "  return final_tiktok_df"
   ]
  },
  {
   "cell_type": "code",
   "execution_count": null,
   "metadata": {
    "id": "i-w_5juP_Dlg"
   },
   "outputs": [],
   "source": [
    "def instagram_call(artist_df, i, refresh_token, final_insta_df):\n",
    "  result = get_platform_data(list(artist_df['chartmetric_artist_id'].iloc[i:i+1].astype('str')), refresh_token, 'Instagram')\n",
    "  insta_df = pd.DataFrame(result)\n",
    "  insta_df['Instagram_Genz_followers'] = round((insta_df['Instagram_Genz_followers_percentage'] * (insta_df['Instagram_followers']/100)),2)\n",
    "  time.sleep(1)\n",
    "  merge_insta_df = pd.merge(insta_df,artist_df[['chartmetric_artist_id','name']].astype('str'),left_on=['artist_id'],right_on=['chartmetric_artist_id'],how='left')\n",
    "  merge_insta_df['Instagram_avg_engagements_per_post'] = merge_insta_df['Instagram_avg_likes_per_post'] + merge_insta_df['Instagram_avg_commments_per_post']\n",
    "  merge_insta_df = merge_insta_df[['artist_id','name','Instagram_followers','Instagram_Genz_followers','Instagram_Genz_followers_percentage',\n",
    "                                   'Instagram_avg_engagements_per_post']]\n",
    "  merge_insta_df.fillna(\"\",inplace=True)\n",
    "  final_insta_df = pd.concat([final_insta_df,merge_insta_df], axis=0)\n",
    "  return final_insta_df"
   ]
  },
  {
   "cell_type": "code",
   "execution_count": null,
   "metadata": {
    "id": "AcwI-lWvLORC"
   },
   "outputs": [],
   "source": [
    "def youtube_call(artist_df, i, refresh_token, final_youtube_df):\n",
    "  result = get_platform_data(list(artist_df['chartmetric_artist_id'].iloc[i:i+1].astype('str')), refresh_token, 'Youtube')\n",
    "  youtube_df = pd.DataFrame(result)\n",
    "  youtube_df['Youtube_Genz_followers'] = round((youtube_df['Youtube_Genz_followers_percentage'] * (youtube_df['Youtube_followers']/100)),2)\n",
    "  time.sleep(1)\n",
    "  merge_youtube_df = pd.merge(youtube_df,artist_df[['chartmetric_artist_id','name']].astype('str'),left_on=['artist_id'],right_on=['chartmetric_artist_id'],how='left')\n",
    "  merge_youtube_df['Youtube_avg_engagements_per_post'] = merge_youtube_df['Youtube_avg_likes_per_post'] + merge_youtube_df['Youtube_avg_commments_per_post']\n",
    "  merge_youtube_df = merge_youtube_df[['artist_id','name','Youtube_followers','Youtube_Genz_followers','Youtube_Genz_followers_percentage',\n",
    "                                   'Youtube_avg_engagements_per_post']]\n",
    "  merge_youtube_df.fillna(\"\",inplace=True)\n",
    "  final_youtube_df = pd.concat([final_youtube_df,merge_youtube_df], axis=0)\n",
    "  return final_youtube_df"
   ]
  },
  {
   "cell_type": "code",
   "execution_count": null,
   "metadata": {
    "id": "5nxVTWmNMSQm"
   },
   "outputs": [],
   "source": [
    "def final_merge_call(artist_df, i, final_tiktok_df, final_insta_df, final_youtube_df):\n",
    "  artist_df['chartmetric_artist_id'].iloc[i:i+1] = artist_df['chartmetric_artist_id'].iloc[i:i+1].astype('str')\n",
    "  final_df = pd.merge(artist_df.iloc[i:i+1],final_tiktok_df,left_on=['chartmetric_artist_id'],right_on=['artist_id'],how='left')\n",
    "  final_df = pd.merge(final_df,final_insta_df,left_on=['chartmetric_artist_id'],right_on=['artist_id'],how='left')\n",
    "  final_df = pd.merge(final_df, final_youtube_df, left_on = ['chartmetric_artist_id'], right_on=['artist_id'], how='left')\n",
    "  final_df = final_df.drop(['chartmetric_artist_id','artist_id_x','artist_id_y','name_y'],axis=1)\n",
    "  final_df.rename(columns={'name_x' : 'name','code2' : 'country_code', 'Youtube_followers' : 'Youtube_subscribers',\n",
    "                           'Youtube_Genz_followers' : 'Youtube_Genz_subscribers', 'Youtube_Genz_followers_percentage' : 'Youtube_Genz_subscribers_percentage'},inplace=True)\n",
    "  final_df.drop_duplicates(inplace=True)\n",
    "  final_df.fillna('',inplace=True)\n",
    "  return final_df"
   ]
  },
  {
   "cell_type": "code",
   "execution_count": null,
   "metadata": {
    "id": "oBS-ec6g9aUg"
   },
   "outputs": [],
   "source": [
    "from google.colab import auth\n",
    "import gspread\n",
    "from google.auth import default\n",
    "\n",
    "auth.authenticate_user()\n",
    "creds, _ = default()\n",
    "gc = gspread.authorize(creds)"
   ]
  },
  {
   "cell_type": "code",
   "execution_count": null,
   "metadata": {
    "colab": {
     "base_uri": "https://localhost:8080/"
    },
    "executionInfo": {
     "elapsed": 26831,
     "status": "ok",
     "timestamp": 1689373892421,
     "user": {
      "displayName": "Akruthi Srikanth (LatentView)",
      "userId": "04879770549239053900"
     },
     "user_tz": 420
    },
    "id": "O2bed5Duejfm",
    "outputId": "ea7b6182-ca84-4952-aee1-378854039bce"
   },
   "outputs": [
    {
     "name": "stderr",
     "output_type": "stream",
     "text": [
      "<ipython-input-135-6130213a43f5>:4: FutureWarning: In a future version of pandas all arguments of DataFrame.drop except for the argument 'labels' will be keyword-only.\n",
      "  artist_df.drop(['cpp_rank','rank_eg','rank_fb','spotify_popularity','spotify_listeners_to_followers_ratio',\n",
      "<ipython-input-132-18b74d7c1b75>:2: SettingWithCopyWarning: \n",
      "A value is trying to be set on a copy of a slice from a DataFrame\n",
      "\n",
      "See the caveats in the documentation: https://pandas.pydata.org/pandas-docs/stable/user_guide/indexing.html#returning-a-view-versus-a-copy\n",
      "  artist_df['chartmetric_artist_id'].iloc[i:i+1] = artist_df['chartmetric_artist_id'].iloc[i:i+1].astype('str')\n",
      "<ipython-input-132-18b74d7c1b75>:5: FutureWarning: Passing 'suffixes' which cause duplicate columns {'name_x'} in the result is deprecated and will raise a MergeError in a future version.\n",
      "  final_df = pd.merge(final_df, final_youtube_df, left_on = ['chartmetric_artist_id'], right_on=['artist_id'], how='left')\n"
     ]
    },
    {
     "name": "stdout",
     "output_type": "stream",
     "text": [
      "1 "
     ]
    },
    {
     "name": "stderr",
     "output_type": "stream",
     "text": [
      "<ipython-input-132-18b74d7c1b75>:5: FutureWarning: Passing 'suffixes' which cause duplicate columns {'name_x'} in the result is deprecated and will raise a MergeError in a future version.\n",
      "  final_df = pd.merge(final_df, final_youtube_df, left_on = ['chartmetric_artist_id'], right_on=['artist_id'], how='left')\n"
     ]
    },
    {
     "name": "stdout",
     "output_type": "stream",
     "text": [
      "2 3 "
     ]
    },
    {
     "name": "stderr",
     "output_type": "stream",
     "text": [
      "<ipython-input-132-18b74d7c1b75>:5: FutureWarning: Passing 'suffixes' which cause duplicate columns {'name_x'} in the result is deprecated and will raise a MergeError in a future version.\n",
      "  final_df = pd.merge(final_df, final_youtube_df, left_on = ['chartmetric_artist_id'], right_on=['artist_id'], how='left')\n"
     ]
    }
   ],
   "source": [
    "def main_call():\n",
    "  refresh_token = get_refresh_token()\n",
    "  artist_df = get_artist_data(refresh_token)\n",
    "  artist_df.drop(['cpp_rank','rank_eg','rank_fb','spotify_popularity','spotify_listeners_to_followers_ratio',\n",
    "                  'spotify_followers_to_listeners_ratio','deezer_fans','wikipedia_views','soundcloud_followers','bandsintown_followers',\n",
    "                  'sp_where_people_listen','signed','tiktok_followers','tiktok_likes','youtube_subscribers', 'instagram_followers'],1,inplace=True)\n",
    "  start = 0\n",
    "  end= 3 #len(artist_df)\n",
    "  counter=0\n",
    "  final_tiktok_df = pd.DataFrame()\n",
    "  final_insta_df = pd.DataFrame()\n",
    "  final_youtube_df = pd.DataFrame()\n",
    "  final_df_list = []\n",
    "\n",
    "  for i in range(start,end):\n",
    "    counter+=1\n",
    "    final_tiktok_df = tiktok_call(artist_df,i,refresh_token, final_tiktok_df)\n",
    "    time.sleep(1)\n",
    "    final_insta_df = instagram_call(artist_df,i,refresh_token, final_insta_df)\n",
    "    time.sleep(1)\n",
    "    final_youtube_df = youtube_call(artist_df,i,refresh_token, final_youtube_df)\n",
    "    time.sleep(1)\n",
    "    merged_df = final_merge_call(artist_df,i, final_tiktok_df, final_insta_df, final_youtube_df)\n",
    "    final_df_list.append(merged_df)\n",
    "    print(str(counter),end=\" \")\n",
    "  final_df = pd.concat(final_df_list, ignore_index=True)\n",
    "  final_df = final_df.loc[:, ~final_df.columns.duplicated()]\n",
    "  return final_df\n",
    "final_df = main_call()"
   ]
  },
  {
   "cell_type": "code",
   "execution_count": null,
   "metadata": {
    "id": "XalHmXXlrRBv"
   },
   "outputs": [],
   "source": [
    "df_mod = final_df.drop_duplicates(subset=['artist_id'], keep='first')\n",
    "df_mod = df_mod[df_mod['artist_id'] != \"\"]"
   ]
  },
  {
   "cell_type": "code",
   "execution_count": null,
   "metadata": {
    "id": "_DCv75VohuFO"
   },
   "outputs": [],
   "source": [
    "df_mod['Snapshot_Date'] = date.today()"
   ]
  },
  {
   "cell_type": "code",
   "execution_count": null,
   "metadata": {
    "colab": {
     "base_uri": "https://localhost:8080/"
    },
    "executionInfo": {
     "elapsed": 5687,
     "status": "ok",
     "timestamp": 1689373898198,
     "user": {
      "displayName": "Akruthi Srikanth (LatentView)",
      "userId": "04879770549239053900"
     },
     "user_tz": 420
    },
    "id": "VZpVIrw6BOK6",
    "outputId": "71ececeb-e754-4f33-85fb-5ede96550d67"
   },
   "outputs": [
    {
     "name": "stderr",
     "output_type": "stream",
     "text": [
      "100%|██████████| 1/1 [00:00<00:00, 1745.44it/s]"
     ]
    },
    {
     "name": "stdout",
     "output_type": "stream",
     "text": [
      "Data moved to BigQuery successfully!\n"
     ]
    },
    {
     "name": "stderr",
     "output_type": "stream",
     "text": [
      "\n"
     ]
    }
   ],
   "source": [
    "project_id = 'tech-cali-b2c'\n",
    "credentials = service_account.Credentials.from_service_account_file('/content/drive/MyDrive/tech-cali-b2c-72b3e690e309-Compute-Engine.json')\n",
    "\n",
    "dataset_id = 'CE_External_Source'\n",
    "table_name = 'Chartmetric_Raw'\n",
    "\n",
    "df_mod = df_mod.astype(str)\n",
    "\n",
    "# Write the dataframe to BigQuery: use if_exists='replace' for the first time, then use if_exists='append' for subsequent data pulls\n",
    "pandas_gbq.to_gbq(df_mod, f'{dataset_id}.{table_name}', project_id=project_id, if_exists='replace', credentials=credentials, progress_bar=True)\n",
    "\n",
    "print('Data moved to BigQuery successfully!')"
   ]
  },
  {
   "cell_type": "code",
   "execution_count": null,
   "metadata": {
    "colab": {
     "base_uri": "https://localhost:8080/"
    },
    "executionInfo": {
     "elapsed": 1047,
     "status": "ok",
     "timestamp": 1689373899221,
     "user": {
      "displayName": "Akruthi Srikanth (LatentView)",
      "userId": "04879770549239053900"
     },
     "user_tz": 420
    },
    "id": "mKP87-UmYXYe",
    "outputId": "9525f631-031f-49ad-8fa4-16028ce13261"
   },
   "outputs": [
    {
     "name": "stdout",
     "output_type": "stream",
     "text": [
      "Drive already mounted at /content/drive; to attempt to forcibly remount, call drive.mount(\"/content/drive\", force_remount=True).\n"
     ]
    }
   ],
   "source": [
    "from google.colab import drive\n",
    "drive.mount('/content/drive')"
   ]
  }
 ],
 "metadata": {
  "colab": {
   "provenance": [
    {
     "file_id": "1bQ6p30LehjptorXpk0TFAltlkbMK0hhJ",
     "timestamp": 1689374144380
    },
    {
     "file_id": "1BUH29PCFs6ohO6gqrpViQWgKiie8xFLI",
     "timestamp": 1684850850978
    }
   ]
  },
  "kernelspec": {
   "display_name": "Python 3",
   "language": "python",
   "name": "python3"
  },
  "language_info": {
   "codemirror_mode": {
    "name": "ipython",
    "version": 3
   },
   "file_extension": ".py",
   "mimetype": "text/x-python",
   "name": "python",
   "nbconvert_exporter": "python",
   "pygments_lexer": "ipython3",
   "version": "3.8.3"
  }
 },
 "nbformat": 4,
 "nbformat_minor": 1
}
