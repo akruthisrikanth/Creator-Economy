{
  "nbformat": 4,
  "nbformat_minor": 0,
  "metadata": {
    "colab": {
      "provenance": []
    },
    "kernelspec": {
      "name": "python3",
      "display_name": "Python 3"
    },
    "language_info": {
      "name": "python"
    }
  },
  "cells": [
    {
      "cell_type": "code",
      "execution_count": null,
      "metadata": {
        "id": "r3gfKsHIebw5"
      },
      "outputs": [],
      "source": [
        "import math\n",
        "from google.cloud import bigquery"
      ]
    },
    {
      "cell_type": "code",
      "source": [
        "client = bigquery.Client.from_service_account_json('/content/drive/MyDrive/tech-cali-b2c-72b3e690e309-Compute-Engine.json')\n",
        "\n",
        "project_id1 = 'tech-cali-b2c'\n",
        "dataset_id1 = 'CE_ML_Layer'\n",
        "table_id1 = 'Z_Scoring'\n",
        "\n",
        "df_fi = client.query(f\"SELECT * FROM `{project_id1}.{dataset_id1}.{table_id1}`\").to_dataframe()"
      ],
      "metadata": {
        "id": "11N3Sz5tfpYn"
      },
      "execution_count": null,
      "outputs": []
    },
    {
      "cell_type": "code",
      "source": [
        "project_id2 = 'tech-cali-b2c'\n",
        "dataset_id2 = 'CE_ML_Layer'\n",
        "table_id2 = 'Feature_Importance'\n",
        "\n",
        "feature_imp = client.query(f\"SELECT * FROM `{project_id2}.{dataset_id2}.{table_id2}`\").to_dataframe()"
      ],
      "metadata": {
        "id": "fb7zPXeIiRjP"
      },
      "execution_count": null,
      "outputs": []
    },
    {
      "cell_type": "code",
      "source": [
        "def map_score_bucket_label(score_bucket):\n",
        "  if math.ceil(score_bucket) >= 8:\n",
        "    return \"8.Extremely High\"\n",
        "  elif math.ceil(score_bucket) >= 7:\n",
        "    return \"7.Very High\"\n",
        "  elif math.ceil(score_bucket) >= 6:\n",
        "    return \"6.High\"\n",
        "  elif math.ceil(score_bucket) >= 5:\n",
        "    return \"5.Above Medium\"\n",
        "  elif math.ceil(score_bucket) >= 4:\n",
        "    return \"4.Medium\"\n",
        "  elif math.ceil(score_bucket) >= 3:\n",
        "    return \"3.Below Medium\"\n",
        "  elif math.ceil(score_bucket) >= 2:\n",
        "    return \"2.Low\"\n",
        "  elif math.ceil(score_bucket) >= 1:\n",
        "    return \"1.Very Low\"\n",
        "  else:\n",
        "    return \"0.Not Applicable\""
      ],
      "metadata": {
        "id": "wJXNSQ79fpd_"
      },
      "execution_count": null,
      "outputs": []
    },
    {
      "cell_type": "markdown",
      "source": [
        "**Finding Metric Score**"
      ],
      "metadata": {
        "id": "-hGW_iFTfrT7"
      }
    },
    {
      "cell_type": "code",
      "source": [
        "df_A_Score = feature_imp[['spotify_followers','Instagram_followers','Instagram_Genz_followers','TikTok_followers','TikTok_Genz_followers',\n",
        "                          'Youtube_subscribers','twitter_followers','Youtube_Genz_subscribers']]\n",
        "df_C_Score = feature_imp[['youtube_monthly_video_views','TikTok_total_views_for_top_n_tracks','spotify_monthly_listeners','twitter_retweets']]\n",
        "df_E_Score = feature_imp[['TikTok_avg_engagements_per_post','Instagram_avg_engagements_per_post','facebook_likes','facebook_talks',\n",
        "                          'Youtube_avg_engagements_per_post']]"
      ],
      "metadata": {
        "id": "2wHeKlvefpgX"
      },
      "execution_count": null,
      "outputs": []
    },
    {
      "cell_type": "code",
      "source": [
        "new1 = df_A_Score.transpose()\n",
        "new2 = df_C_Score.transpose()\n",
        "new3 = df_E_Score.transpose()"
      ],
      "metadata": {
        "id": "w_FQ2AkmfXAK"
      },
      "execution_count": null,
      "outputs": []
    },
    {
      "cell_type": "code",
      "source": [
        "new_df_A = new1.sort_values(0, ascending = True)\n",
        "new_df_C = new2.sort_values(0, ascending = True)\n",
        "new_df_E = new3.sort_values(0, ascending = True)"
      ],
      "metadata": {
        "id": "7Mmw6lhMfYzS"
      },
      "execution_count": null,
      "outputs": []
    },
    {
      "cell_type": "code",
      "source": [
        "new_df_A[\"Metric_Score\"] = [1,2,3,4,5,6,7,8]\n",
        "new_df_C[\"Metric_Score\"] = [1,2,3,4]\n",
        "new_df_E[\"Metric_Score\"] = [1,2,3,4,5]"
      ],
      "metadata": {
        "id": "a_yU4clIfY16"
      },
      "execution_count": null,
      "outputs": []
    },
    {
      "cell_type": "markdown",
      "source": [
        "**Finding New Weights**"
      ],
      "metadata": {
        "id": "SLrhgrIIfwcd"
      }
    },
    {
      "cell_type": "code",
      "source": [
        "new_df_A[\"New_Weights_%\"] = new_df_A['Metric_Score']/sum(new_df_A['Metric_Score'])\n",
        "new_df_C[\"New_Weights_%\"] = new_df_C['Metric_Score']/sum(new_df_C['Metric_Score'])\n",
        "new_df_E[\"New_Weights_%\"] = new_df_E['Metric_Score']/sum(new_df_E['Metric_Score'])"
      ],
      "metadata": {
        "id": "FtDL0zJufY4c"
      },
      "execution_count": null,
      "outputs": []
    },
    {
      "cell_type": "markdown",
      "source": [
        "**Finding New Weighted Average Score**"
      ],
      "metadata": {
        "id": "JvD2xZXKfztm"
      }
    },
    {
      "cell_type": "code",
      "source": [
        "df_fi['New_Weighted_Average_Score_twitter_followers'] = df_fi['twitter_followers_zscore'] * new_df_A['New_Weights_%']['twitter_followers']\n",
        "df_fi['New_Weighted_Average_Score_spotify_followers'] = df_fi['spotify_followers_zscore'] * new_df_A['New_Weights_%']['spotify_followers']\n",
        "df_fi['New_Weighted_Average_Score_Instagram_followers'] = df_fi['Instagram_followers_zscore'] * new_df_A['New_Weights_%']['Instagram_followers']\n",
        "df_fi['New_Weighted_Average_Score_TikTok_Genz_followers'] = df_fi['TikTok_Genz_followers_zscore'] * new_df_A['New_Weights_%']['TikTok_Genz_followers']\n",
        "df_fi['New_Weighted_Average_Score_Instagram_Genz_followers'] = df_fi['Instagram_Genz_followers_zscore'] * new_df_A['New_Weights_%']['Instagram_Genz_followers']\n",
        "df_fi['New_Weighted_Average_Score_Youtube_Genz_subscribers'] = df_fi['Youtube_Genz_subscribers_zscore'] * new_df_A['New_Weights_%']['Youtube_Genz_subscribers']\n",
        "df_fi['New_Weighted_Average_Score_Youtube_subscribers'] = df_fi['Youtube_subscribers_zscore'] * new_df_A['New_Weights_%']['Youtube_subscribers']\n",
        "df_fi['New_Weighted_Average_Score_TikTok_followers'] = df_fi['TikTok_followers_zscore'] * new_df_A['New_Weights_%']['TikTok_followers']\n",
        "\n",
        "#----------------------------------------------------------------------------------------------------------------------------------------#\n",
        "\n",
        "\n",
        "df_fi['New_Weighted_Average_Score_twitter_retweets'] = df_fi['twitter_retweets_zscore'] * new_df_C['New_Weights_%']['twitter_retweets']\n",
        "df_fi['New_Weighted_Average_Score_youtube_monthly_video_views'] = df_fi['youtube_monthly_video_views_zscore'] * new_df_C['New_Weights_%']['youtube_monthly_video_views']\n",
        "df_fi['New_Weighted_Average_Score_spotify_monthly_listeners'] = df_fi['spotify_monthly_listeners_zscore'] * new_df_C['New_Weights_%']['spotify_monthly_listeners']\n",
        "df_fi['New_Weighted_Average_Score_TikTok_total_views_for_top_n_tracks'] = df_fi['TikTok_total_views_for_top_n_tracks_zscore'] * new_df_C['New_Weights_%']['TikTok_total_views_for_top_n_tracks']\n",
        "\n",
        "#---------------------------------------------------------------------------------------------------------------------------------------#\n",
        "\n",
        "df_fi['New_Weighted_Average_Score_Instagram_avg_engagements_per_post'] = df_fi['Instagram_avg_engagements_per_post_zscore'] * new_df_E['New_Weights_%']['Instagram_avg_engagements_per_post']\n",
        "df_fi['New_Weighted_Average_Score_Youtube_avg_engagements_per_post'] = df_fi['Youtube_avg_engagements_per_post_zscore'] * new_df_E['New_Weights_%']['Youtube_avg_engagements_per_post']\n",
        "df_fi['New_Weighted_Average_Score_TikTok_avg_engagements_per_post'] = df_fi['TikTok_avg_engagements_per_post_zscore'] * new_df_E['New_Weights_%']['TikTok_avg_engagements_per_post']\n",
        "df_fi['New_Weighted_Average_Score_facebook_talks'] = df_fi['facebook_talks_zscore'] * new_df_E['New_Weights_%']['facebook_talks']\n",
        "df_fi['New_Weighted_Average_Score_facebook_likes'] = df_fi['facebook_likes_zscore'] * new_df_E['New_Weights_%']['facebook_likes']\n",
        "\n",
        "#----------------------------------------------------------------------------------------------------------------------------------------#"
      ],
      "metadata": {
        "id": "qhhpCL1UfY6y"
      },
      "execution_count": null,
      "outputs": []
    },
    {
      "cell_type": "markdown",
      "source": [
        "**Finding the Audience Score, Content Performance Score, Engagement Score, and Final Score**"
      ],
      "metadata": {
        "id": "_goAs9mGmGdf"
      }
    },
    {
      "cell_type": "code",
      "source": [
        "df_fi['Audience_Score'] = df_fi['New_Weighted_Average_Score_twitter_followers'] + df_fi['New_Weighted_Average_Score_spotify_followers'] + df_fi['New_Weighted_Average_Score_Instagram_followers'] +  \\\n",
        "                          df_fi['New_Weighted_Average_Score_TikTok_Genz_followers'] + df_fi['New_Weighted_Average_Score_Instagram_Genz_followers'] +  \\\n",
        "                          df_fi['New_Weighted_Average_Score_Youtube_Genz_subscribers'] + df_fi['New_Weighted_Average_Score_Youtube_subscribers'] + df_fi['New_Weighted_Average_Score_TikTok_followers']\n",
        "#----------------------------------------------------------------------------------------------------------------------------------------#\n",
        "\n",
        "\n",
        "df_fi['Content_Performance_Score'] = df_fi['New_Weighted_Average_Score_twitter_retweets'] + df_fi['New_Weighted_Average_Score_youtube_monthly_video_views'] +  \\\n",
        "                                      df_fi['New_Weighted_Average_Score_spotify_monthly_listeners'] + df_fi['New_Weighted_Average_Score_TikTok_total_views_for_top_n_tracks']\n",
        "#---------------------------------------------------------------------------------------------------------------------------------------#\n",
        "\n",
        "df_fi['Engagement_Score'] = df_fi['New_Weighted_Average_Score_Instagram_avg_engagements_per_post'] + df_fi['New_Weighted_Average_Score_Youtube_avg_engagements_per_post'] +  \\\n",
        "                            df_fi['New_Weighted_Average_Score_TikTok_avg_engagements_per_post'] + df_fi['New_Weighted_Average_Score_facebook_talks'] +  \\\n",
        "                            df_fi['New_Weighted_Average_Score_facebook_likes']\n",
        "#----------------------------------------------------------------------------------------------------------------------------------------#\n"
      ],
      "metadata": {
        "id": "ULDYf5v5mF0F"
      },
      "execution_count": null,
      "outputs": []
    },
    {
      "cell_type": "code",
      "source": [
        "df_fi['Final_Selection_Score'] = (df_fi['Audience_Score'] + df_fi['Content_Performance_Score'] + df_fi['Engagement_Score'])*(1/3)"
      ],
      "metadata": {
        "id": "H1Td5CNofY9U"
      },
      "execution_count": null,
      "outputs": []
    },
    {
      "cell_type": "code",
      "source": [
        "for col in list(df_fi.columns):\n",
        "  if col.endswith('_Score'):\n",
        "    col_score_bucket_label = col + '_Label'\n",
        "    df_fi[col_score_bucket_label] = df_fi[col].apply(lambda x: map_score_bucket_label(x))"
      ],
      "metadata": {
        "id": "gecJqFLifY_s"
      },
      "execution_count": null,
      "outputs": []
    },
    {
      "cell_type": "code",
      "source": [
        "from google.oauth2 import service_account\n",
        "import pandas_gbq\n",
        "\n",
        "# Define your BigQuery project ID and credentials\n",
        "project_id = 'tech-cali-b2c'\n",
        "credentials = service_account.Credentials.from_service_account_file('/content/drive/MyDrive/tech-cali-b2c-72b3e690e309-Compute-Engine.json')\n",
        "\n",
        "# Define the BigQuery table name and dataset ID\n",
        "dataset_id = 'CE_ML_Layer'\n",
        "table_name = 'New_Weights_Score'\n",
        "\n",
        "# Write the dataframe to BigQuery\n",
        "pandas_gbq.to_gbq(df_fi, f'{dataset_id}.{table_name}', project_id=project_id, if_exists='replace', credentials=credentials)\n",
        "\n",
        "print('Data moved to BigQuery successfully!')"
      ],
      "metadata": {
        "colab": {
          "base_uri": "https://localhost:8080/"
        },
        "id": "RhtorOJ3gRAS",
        "outputId": "1d907d37-bdc0-4781-b8b7-6b06987f6a89"
      },
      "execution_count": null,
      "outputs": [
        {
          "output_type": "stream",
          "name": "stderr",
          "text": [
            "100%|██████████| 1/1 [00:00<00:00, 5607.36it/s]"
          ]
        },
        {
          "output_type": "stream",
          "name": "stdout",
          "text": [
            "Data moved to BigQuery successfully!\n"
          ]
        },
        {
          "output_type": "stream",
          "name": "stderr",
          "text": [
            "\n"
          ]
        }
      ]
    }
  ]
}